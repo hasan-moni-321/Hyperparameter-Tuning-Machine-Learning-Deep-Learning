{
 "cells": [
  {
   "cell_type": "markdown",
   "metadata": {},
   "source": [
    "# Predicting Diabetis "
   ]
  },
  {
   "cell_type": "code",
   "execution_count": null,
   "metadata": {},
   "outputs": [],
   "source": []
  },
  {
   "cell_type": "code",
   "execution_count": 86,
   "metadata": {},
   "outputs": [],
   "source": [
    "from keras.models import Sequential\n",
    "from keras.layers import Dense, Dropout\n",
    "import numpy as np\n",
    "import pandas as pd\n",
    "import matplotlib.pyplot as plt\n",
    "from sklearn.model_selection import train_test_split, StratifiedKFold\n",
    "\n",
    "seed = 7\n",
    "numpy.random.seed(seed)\n"
   ]
  },
  {
   "cell_type": "markdown",
   "metadata": {},
   "source": [
    "##### Loding Dataset"
   ]
  },
  {
   "cell_type": "code",
   "execution_count": 6,
   "metadata": {},
   "outputs": [],
   "source": [
    "dataset = pd.read_csv(\"/home/hasan/DATA SET/pima-indians-diabetes-database/diabetes.csv\", delimiter=\",\")\n"
   ]
  },
  {
   "cell_type": "code",
   "execution_count": 8,
   "metadata": {},
   "outputs": [
    {
     "data": {
      "text/html": [
       "<div>\n",
       "<style scoped>\n",
       "    .dataframe tbody tr th:only-of-type {\n",
       "        vertical-align: middle;\n",
       "    }\n",
       "\n",
       "    .dataframe tbody tr th {\n",
       "        vertical-align: top;\n",
       "    }\n",
       "\n",
       "    .dataframe thead th {\n",
       "        text-align: right;\n",
       "    }\n",
       "</style>\n",
       "<table border=\"1\" class=\"dataframe\">\n",
       "  <thead>\n",
       "    <tr style=\"text-align: right;\">\n",
       "      <th></th>\n",
       "      <th>Pregnancies</th>\n",
       "      <th>Glucose</th>\n",
       "      <th>BloodPressure</th>\n",
       "      <th>SkinThickness</th>\n",
       "      <th>Insulin</th>\n",
       "      <th>BMI</th>\n",
       "      <th>DiabetesPedigreeFunction</th>\n",
       "      <th>Age</th>\n",
       "      <th>Outcome</th>\n",
       "    </tr>\n",
       "  </thead>\n",
       "  <tbody>\n",
       "    <tr>\n",
       "      <th>0</th>\n",
       "      <td>6</td>\n",
       "      <td>148</td>\n",
       "      <td>72</td>\n",
       "      <td>35</td>\n",
       "      <td>0</td>\n",
       "      <td>33.6</td>\n",
       "      <td>0.627</td>\n",
       "      <td>50</td>\n",
       "      <td>1</td>\n",
       "    </tr>\n",
       "    <tr>\n",
       "      <th>1</th>\n",
       "      <td>1</td>\n",
       "      <td>85</td>\n",
       "      <td>66</td>\n",
       "      <td>29</td>\n",
       "      <td>0</td>\n",
       "      <td>26.6</td>\n",
       "      <td>0.351</td>\n",
       "      <td>31</td>\n",
       "      <td>0</td>\n",
       "    </tr>\n",
       "    <tr>\n",
       "      <th>2</th>\n",
       "      <td>8</td>\n",
       "      <td>183</td>\n",
       "      <td>64</td>\n",
       "      <td>0</td>\n",
       "      <td>0</td>\n",
       "      <td>23.3</td>\n",
       "      <td>0.672</td>\n",
       "      <td>32</td>\n",
       "      <td>1</td>\n",
       "    </tr>\n",
       "    <tr>\n",
       "      <th>3</th>\n",
       "      <td>1</td>\n",
       "      <td>89</td>\n",
       "      <td>66</td>\n",
       "      <td>23</td>\n",
       "      <td>94</td>\n",
       "      <td>28.1</td>\n",
       "      <td>0.167</td>\n",
       "      <td>21</td>\n",
       "      <td>0</td>\n",
       "    </tr>\n",
       "    <tr>\n",
       "      <th>4</th>\n",
       "      <td>0</td>\n",
       "      <td>137</td>\n",
       "      <td>40</td>\n",
       "      <td>35</td>\n",
       "      <td>168</td>\n",
       "      <td>43.1</td>\n",
       "      <td>2.288</td>\n",
       "      <td>33</td>\n",
       "      <td>1</td>\n",
       "    </tr>\n",
       "  </tbody>\n",
       "</table>\n",
       "</div>"
      ],
      "text/plain": [
       "   Pregnancies  Glucose  BloodPressure  SkinThickness  Insulin   BMI  \\\n",
       "0            6      148             72             35        0  33.6   \n",
       "1            1       85             66             29        0  26.6   \n",
       "2            8      183             64              0        0  23.3   \n",
       "3            1       89             66             23       94  28.1   \n",
       "4            0      137             40             35      168  43.1   \n",
       "\n",
       "   DiabetesPedigreeFunction  Age  Outcome  \n",
       "0                     0.627   50        1  \n",
       "1                     0.351   31        0  \n",
       "2                     0.672   32        1  \n",
       "3                     0.167   21        0  \n",
       "4                     2.288   33        1  "
      ]
     },
     "execution_count": 8,
     "metadata": {},
     "output_type": "execute_result"
    }
   ],
   "source": [
    "dataset.head()"
   ]
  },
  {
   "cell_type": "markdown",
   "metadata": {},
   "source": [
    "##### Split Dataset"
   ]
  },
  {
   "cell_type": "code",
   "execution_count": 9,
   "metadata": {},
   "outputs": [],
   "source": [
    "X = dataset.iloc[:,0:8]\n",
    "Y = dataset.iloc[:,8]"
   ]
  },
  {
   "cell_type": "code",
   "execution_count": null,
   "metadata": {},
   "outputs": [],
   "source": []
  },
  {
   "cell_type": "markdown",
   "metadata": {},
   "source": [
    "##### Model"
   ]
  },
  {
   "cell_type": "code",
   "execution_count": 17,
   "metadata": {},
   "outputs": [],
   "source": [
    "model = Sequential()\n",
    "model.add(Dense(50, input_dim=8, kernel_initializer='uniform', activation='relu'))\n",
    "model.add(Dense(25, kernel_initializer='uniform', activation='relu'))\n",
    "model.add(Dense(1, kernel_initializer='uniform', activation='sigmoid'))\n"
   ]
  },
  {
   "cell_type": "code",
   "execution_count": null,
   "metadata": {},
   "outputs": [],
   "source": []
  },
  {
   "cell_type": "code",
   "execution_count": 19,
   "metadata": {},
   "outputs": [
    {
     "name": "stdout",
     "output_type": "stream",
     "text": [
      "Model: \"sequential_8\"\n",
      "_________________________________________________________________\n",
      "Layer (type)                 Output Shape              Param #   \n",
      "=================================================================\n",
      "dense_19 (Dense)             (None, 50)                450       \n",
      "_________________________________________________________________\n",
      "dense_20 (Dense)             (None, 25)                1275      \n",
      "_________________________________________________________________\n",
      "dense_21 (Dense)             (None, 1)                 26        \n",
      "=================================================================\n",
      "Total params: 1,751\n",
      "Trainable params: 1,751\n",
      "Non-trainable params: 0\n",
      "_________________________________________________________________\n"
     ]
    }
   ],
   "source": [
    "#summary of the model\n",
    "model.summary()"
   ]
  },
  {
   "cell_type": "code",
   "execution_count": null,
   "metadata": {},
   "outputs": [],
   "source": []
  },
  {
   "cell_type": "code",
   "execution_count": 20,
   "metadata": {},
   "outputs": [],
   "source": [
    "#compile the Model\n",
    "model.compile(loss='binary_crossentropy',\n",
    "              optimizer='adam',\n",
    "              metrics=['accuracy'])"
   ]
  },
  {
   "cell_type": "code",
   "execution_count": null,
   "metadata": {},
   "outputs": [],
   "source": []
  },
  {
   "cell_type": "markdown",
   "metadata": {},
   "source": [
    "##### Fit the Model"
   ]
  },
  {
   "cell_type": "code",
   "execution_count": 21,
   "metadata": {},
   "outputs": [
    {
     "name": "stderr",
     "output_type": "stream",
     "text": [
      "/home/hasan/anaconda3/lib/python3.7/site-packages/ipykernel_launcher.py:1: UserWarning: The `nb_epoch` argument in `fit` has been renamed `epochs`.\n",
      "  \"\"\"Entry point for launching an IPython kernel.\n"
     ]
    },
    {
     "name": "stdout",
     "output_type": "stream",
     "text": [
      "Epoch 1/150\n",
      "768/768 [==============================] - 1s 1ms/step - loss: 0.6678 - accuracy: 0.6497\n",
      "Epoch 2/150\n",
      "768/768 [==============================] - 0s 162us/step - loss: 0.6519 - accuracy: 0.6432\n",
      "Epoch 3/150\n",
      "768/768 [==============================] - 0s 157us/step - loss: 0.6278 - accuracy: 0.6602\n",
      "Epoch 4/150\n",
      "768/768 [==============================] - 0s 166us/step - loss: 0.6146 - accuracy: 0.6745\n",
      "Epoch 5/150\n",
      "768/768 [==============================] - 0s 166us/step - loss: 0.6155 - accuracy: 0.6732\n",
      "Epoch 6/150\n",
      "768/768 [==============================] - 0s 156us/step - loss: 0.5977 - accuracy: 0.7018\n",
      "Epoch 7/150\n",
      "768/768 [==============================] - 0s 156us/step - loss: 0.6074 - accuracy: 0.6862\n",
      "Epoch 8/150\n",
      "768/768 [==============================] - 0s 161us/step - loss: 0.5898 - accuracy: 0.6836\n",
      "Epoch 9/150\n",
      "768/768 [==============================] - 0s 158us/step - loss: 0.5954 - accuracy: 0.7044\n",
      "Epoch 10/150\n",
      "768/768 [==============================] - 0s 173us/step - loss: 0.5959 - accuracy: 0.6810\n",
      "Epoch 11/150\n",
      "768/768 [==============================] - 0s 159us/step - loss: 0.5801 - accuracy: 0.6966\n",
      "Epoch 12/150\n",
      "768/768 [==============================] - 0s 153us/step - loss: 0.5798 - accuracy: 0.7031\n",
      "Epoch 13/150\n",
      "768/768 [==============================] - 0s 168us/step - loss: 0.5814 - accuracy: 0.7109\n",
      "Epoch 14/150\n",
      "768/768 [==============================] - 0s 182us/step - loss: 0.5793 - accuracy: 0.6849\n",
      "Epoch 15/150\n",
      "768/768 [==============================] - 0s 186us/step - loss: 0.5736 - accuracy: 0.7161\n",
      "Epoch 16/150\n",
      "768/768 [==============================] - 0s 184us/step - loss: 0.5671 - accuracy: 0.7227\n",
      "Epoch 17/150\n",
      "768/768 [==============================] - 0s 169us/step - loss: 0.5578 - accuracy: 0.7122\n",
      "Epoch 18/150\n",
      "768/768 [==============================] - 0s 158us/step - loss: 0.5604 - accuracy: 0.7109\n",
      "Epoch 19/150\n",
      "768/768 [==============================] - 0s 168us/step - loss: 0.5526 - accuracy: 0.7422\n",
      "Epoch 20/150\n",
      "768/768 [==============================] - 0s 166us/step - loss: 0.5571 - accuracy: 0.7279\n",
      "Epoch 21/150\n",
      "768/768 [==============================] - 0s 162us/step - loss: 0.5478 - accuracy: 0.7292\n",
      "Epoch 22/150\n",
      "768/768 [==============================] - 0s 166us/step - loss: 0.5479 - accuracy: 0.7227\n",
      "Epoch 23/150\n",
      "768/768 [==============================] - 0s 156us/step - loss: 0.5457 - accuracy: 0.7253\n",
      "Epoch 24/150\n",
      "768/768 [==============================] - 0s 164us/step - loss: 0.5474 - accuracy: 0.7253\n",
      "Epoch 25/150\n",
      "768/768 [==============================] - 0s 164us/step - loss: 0.5457 - accuracy: 0.7448\n",
      "Epoch 26/150\n",
      "768/768 [==============================] - 0s 154us/step - loss: 0.5517 - accuracy: 0.7331\n",
      "Epoch 27/150\n",
      "768/768 [==============================] - 0s 167us/step - loss: 0.5454 - accuracy: 0.7344\n",
      "Epoch 28/150\n",
      "768/768 [==============================] - 0s 186us/step - loss: 0.5352 - accuracy: 0.7357\n",
      "Epoch 29/150\n",
      "768/768 [==============================] - 0s 197us/step - loss: 0.5286 - accuracy: 0.7318\n",
      "Epoch 30/150\n",
      "768/768 [==============================] - 0s 188us/step - loss: 0.5337 - accuracy: 0.7409\n",
      "Epoch 31/150\n",
      "768/768 [==============================] - 0s 178us/step - loss: 0.5265 - accuracy: 0.7357\n",
      "Epoch 32/150\n",
      "768/768 [==============================] - 0s 166us/step - loss: 0.5320 - accuracy: 0.7383\n",
      "Epoch 33/150\n",
      "768/768 [==============================] - 0s 169us/step - loss: 0.5219 - accuracy: 0.7396\n",
      "Epoch 34/150\n",
      "768/768 [==============================] - 0s 179us/step - loss: 0.5203 - accuracy: 0.7604\n",
      "Epoch 35/150\n",
      "768/768 [==============================] - 0s 173us/step - loss: 0.5193 - accuracy: 0.7409\n",
      "Epoch 36/150\n",
      "768/768 [==============================] - 0s 170us/step - loss: 0.5157 - accuracy: 0.7448\n",
      "Epoch 37/150\n",
      "768/768 [==============================] - 0s 171us/step - loss: 0.5213 - accuracy: 0.7500\n",
      "Epoch 38/150\n",
      "768/768 [==============================] - 0s 160us/step - loss: 0.5245 - accuracy: 0.7461\n",
      "Epoch 39/150\n",
      "768/768 [==============================] - 0s 166us/step - loss: 0.5170 - accuracy: 0.7526\n",
      "Epoch 40/150\n",
      "768/768 [==============================] - 0s 170us/step - loss: 0.5130 - accuracy: 0.7500\n",
      "Epoch 41/150\n",
      "768/768 [==============================] - 0s 159us/step - loss: 0.5153 - accuracy: 0.7357\n",
      "Epoch 42/150\n",
      "768/768 [==============================] - 0s 165us/step - loss: 0.5085 - accuracy: 0.7526\n",
      "Epoch 43/150\n",
      "768/768 [==============================] - 0s 164us/step - loss: 0.5138 - accuracy: 0.7500\n",
      "Epoch 44/150\n",
      "768/768 [==============================] - 0s 165us/step - loss: 0.5115 - accuracy: 0.7591\n",
      "Epoch 45/150\n",
      "768/768 [==============================] - 0s 184us/step - loss: 0.5043 - accuracy: 0.7578\n",
      "Epoch 46/150\n",
      "768/768 [==============================] - 0s 174us/step - loss: 0.5011 - accuracy: 0.7630\n",
      "Epoch 47/150\n",
      "768/768 [==============================] - 0s 186us/step - loss: 0.5137 - accuracy: 0.7435\n",
      "Epoch 48/150\n",
      "768/768 [==============================] - 0s 187us/step - loss: 0.5064 - accuracy: 0.7461\n",
      "Epoch 49/150\n",
      "768/768 [==============================] - 0s 169us/step - loss: 0.5062 - accuracy: 0.7552\n",
      "Epoch 50/150\n",
      "768/768 [==============================] - 0s 169us/step - loss: 0.4999 - accuracy: 0.7630\n",
      "Epoch 51/150\n",
      "768/768 [==============================] - 0s 169us/step - loss: 0.5006 - accuracy: 0.7552\n",
      "Epoch 52/150\n",
      "768/768 [==============================] - 0s 164us/step - loss: 0.5022 - accuracy: 0.7630\n",
      "Epoch 53/150\n",
      "768/768 [==============================] - 0s 176us/step - loss: 0.4959 - accuracy: 0.7643\n",
      "Epoch 54/150\n",
      "768/768 [==============================] - 0s 175us/step - loss: 0.4994 - accuracy: 0.7643\n",
      "Epoch 55/150\n",
      "768/768 [==============================] - 0s 159us/step - loss: 0.4898 - accuracy: 0.7643\n",
      "Epoch 56/150\n",
      "768/768 [==============================] - 0s 155us/step - loss: 0.4867 - accuracy: 0.7656\n",
      "Epoch 57/150\n",
      "768/768 [==============================] - 0s 158us/step - loss: 0.4935 - accuracy: 0.7617\n",
      "Epoch 58/150\n",
      "768/768 [==============================] - 0s 172us/step - loss: 0.4992 - accuracy: 0.7604\n",
      "Epoch 59/150\n",
      "768/768 [==============================] - 0s 179us/step - loss: 0.4806 - accuracy: 0.7721\n",
      "Epoch 60/150\n",
      "768/768 [==============================] - 0s 171us/step - loss: 0.4846 - accuracy: 0.7552\n",
      "Epoch 61/150\n",
      "768/768 [==============================] - 0s 178us/step - loss: 0.4932 - accuracy: 0.7500\n",
      "Epoch 62/150\n",
      "768/768 [==============================] - 0s 173us/step - loss: 0.4785 - accuracy: 0.7695\n",
      "Epoch 63/150\n",
      "768/768 [==============================] - 0s 186us/step - loss: 0.4859 - accuracy: 0.7552\n",
      "Epoch 64/150\n",
      "768/768 [==============================] - 0s 169us/step - loss: 0.4906 - accuracy: 0.7513\n",
      "Epoch 65/150\n",
      "768/768 [==============================] - 0s 162us/step - loss: 0.4810 - accuracy: 0.7708\n",
      "Epoch 66/150\n",
      "768/768 [==============================] - 0s 170us/step - loss: 0.4752 - accuracy: 0.7669\n",
      "Epoch 67/150\n",
      "768/768 [==============================] - 0s 152us/step - loss: 0.4751 - accuracy: 0.7643\n",
      "Epoch 68/150\n",
      "768/768 [==============================] - 0s 165us/step - loss: 0.4762 - accuracy: 0.7708\n",
      "Epoch 69/150\n",
      "768/768 [==============================] - 0s 156us/step - loss: 0.4648 - accuracy: 0.7708\n",
      "Epoch 70/150\n",
      "768/768 [==============================] - 0s 151us/step - loss: 0.4732 - accuracy: 0.7839\n",
      "Epoch 71/150\n",
      "768/768 [==============================] - 0s 155us/step - loss: 0.4796 - accuracy: 0.7734\n",
      "Epoch 72/150\n",
      "768/768 [==============================] - 0s 185us/step - loss: 0.4717 - accuracy: 0.7708\n",
      "Epoch 73/150\n",
      "768/768 [==============================] - 0s 201us/step - loss: 0.4680 - accuracy: 0.7734\n",
      "Epoch 74/150\n",
      "768/768 [==============================] - 0s 212us/step - loss: 0.4737 - accuracy: 0.7669\n",
      "Epoch 75/150\n",
      "768/768 [==============================] - 0s 212us/step - loss: 0.4686 - accuracy: 0.7734\n",
      "Epoch 76/150\n",
      "768/768 [==============================] - 0s 192us/step - loss: 0.4725 - accuracy: 0.7669\n",
      "Epoch 77/150\n",
      "768/768 [==============================] - 0s 181us/step - loss: 0.4657 - accuracy: 0.7812\n",
      "Epoch 78/150\n",
      "768/768 [==============================] - 0s 160us/step - loss: 0.4611 - accuracy: 0.7891\n",
      "Epoch 79/150\n",
      "768/768 [==============================] - 0s 168us/step - loss: 0.4574 - accuracy: 0.7799\n",
      "Epoch 80/150\n",
      "768/768 [==============================] - 0s 163us/step - loss: 0.4579 - accuracy: 0.7721\n",
      "Epoch 81/150\n",
      "768/768 [==============================] - 0s 157us/step - loss: 0.4664 - accuracy: 0.7643\n",
      "Epoch 82/150\n",
      "768/768 [==============================] - 0s 166us/step - loss: 0.4583 - accuracy: 0.7917\n",
      "Epoch 83/150\n",
      "768/768 [==============================] - 0s 155us/step - loss: 0.4753 - accuracy: 0.7799\n",
      "Epoch 84/150\n",
      "768/768 [==============================] - 0s 160us/step - loss: 0.4583 - accuracy: 0.7852\n",
      "Epoch 85/150\n",
      "768/768 [==============================] - 0s 163us/step - loss: 0.4572 - accuracy: 0.7865\n",
      "Epoch 86/150\n",
      "768/768 [==============================] - 0s 155us/step - loss: 0.4550 - accuracy: 0.7786\n",
      "Epoch 87/150\n",
      "768/768 [==============================] - 0s 170us/step - loss: 0.4537 - accuracy: 0.7878\n",
      "Epoch 88/150\n",
      "768/768 [==============================] - 0s 158us/step - loss: 0.4533 - accuracy: 0.7747\n",
      "Epoch 89/150\n",
      "768/768 [==============================] - 0s 161us/step - loss: 0.4572 - accuracy: 0.7617\n",
      "Epoch 90/150\n",
      "768/768 [==============================] - 0s 178us/step - loss: 0.4585 - accuracy: 0.7956\n",
      "Epoch 91/150\n",
      "768/768 [==============================] - 0s 160us/step - loss: 0.4400 - accuracy: 0.7995\n",
      "Epoch 92/150\n",
      "768/768 [==============================] - 0s 166us/step - loss: 0.4472 - accuracy: 0.7852\n",
      "Epoch 93/150\n",
      "768/768 [==============================] - 0s 170us/step - loss: 0.4464 - accuracy: 0.7799\n",
      "Epoch 94/150\n",
      "768/768 [==============================] - 0s 167us/step - loss: 0.4458 - accuracy: 0.7839\n",
      "Epoch 95/150\n",
      "768/768 [==============================] - 0s 165us/step - loss: 0.4471 - accuracy: 0.7812\n",
      "Epoch 96/150\n",
      "768/768 [==============================] - 0s 146us/step - loss: 0.4446 - accuracy: 0.7812\n",
      "Epoch 97/150\n",
      "768/768 [==============================] - 0s 202us/step - loss: 0.4602 - accuracy: 0.7721\n",
      "Epoch 98/150\n",
      "768/768 [==============================] - 0s 158us/step - loss: 0.4461 - accuracy: 0.7865\n",
      "Epoch 99/150\n",
      "768/768 [==============================] - 0s 162us/step - loss: 0.4355 - accuracy: 0.7969\n",
      "Epoch 100/150\n",
      "768/768 [==============================] - 0s 158us/step - loss: 0.4390 - accuracy: 0.7917\n",
      "Epoch 101/150\n",
      "768/768 [==============================] - 0s 166us/step - loss: 0.4448 - accuracy: 0.7878\n",
      "Epoch 102/150\n",
      "768/768 [==============================] - 0s 189us/step - loss: 0.4353 - accuracy: 0.7878\n",
      "Epoch 103/150\n",
      "768/768 [==============================] - 0s 160us/step - loss: 0.4347 - accuracy: 0.8008\n",
      "Epoch 104/150\n",
      "768/768 [==============================] - 0s 173us/step - loss: 0.4440 - accuracy: 0.7878\n",
      "Epoch 105/150\n",
      "768/768 [==============================] - 0s 185us/step - loss: 0.4370 - accuracy: 0.7839\n",
      "Epoch 106/150\n",
      "768/768 [==============================] - 0s 179us/step - loss: 0.4331 - accuracy: 0.7943\n",
      "Epoch 107/150\n",
      "768/768 [==============================] - 0s 178us/step - loss: 0.4351 - accuracy: 0.8021\n",
      "Epoch 108/150\n",
      "768/768 [==============================] - 0s 155us/step - loss: 0.4354 - accuracy: 0.7943\n",
      "Epoch 109/150\n",
      "768/768 [==============================] - 0s 185us/step - loss: 0.4379 - accuracy: 0.8047\n",
      "Epoch 110/150\n",
      "768/768 [==============================] - 0s 171us/step - loss: 0.4423 - accuracy: 0.7839\n",
      "Epoch 111/150\n",
      "768/768 [==============================] - 0s 166us/step - loss: 0.4349 - accuracy: 0.7930\n",
      "Epoch 112/150\n",
      "768/768 [==============================] - 0s 193us/step - loss: 0.4229 - accuracy: 0.8008\n",
      "Epoch 113/150\n",
      "768/768 [==============================] - 0s 172us/step - loss: 0.4316 - accuracy: 0.7852\n",
      "Epoch 114/150\n",
      "768/768 [==============================] - 0s 162us/step - loss: 0.4210 - accuracy: 0.8112\n",
      "Epoch 115/150\n",
      "768/768 [==============================] - 0s 180us/step - loss: 0.4270 - accuracy: 0.7891\n",
      "Epoch 116/150\n",
      "768/768 [==============================] - 0s 178us/step - loss: 0.4329 - accuracy: 0.7982\n",
      "Epoch 117/150\n",
      "768/768 [==============================] - 0s 154us/step - loss: 0.4439 - accuracy: 0.7786\n",
      "Epoch 118/150\n",
      "768/768 [==============================] - 0s 179us/step - loss: 0.4299 - accuracy: 0.8008\n",
      "Epoch 119/150\n",
      "768/768 [==============================] - 0s 153us/step - loss: 0.4347 - accuracy: 0.8034\n",
      "Epoch 120/150\n",
      "768/768 [==============================] - 0s 171us/step - loss: 0.4241 - accuracy: 0.7982\n",
      "Epoch 121/150\n",
      "768/768 [==============================] - 0s 160us/step - loss: 0.4442 - accuracy: 0.7995\n",
      "Epoch 122/150\n",
      "768/768 [==============================] - 0s 164us/step - loss: 0.4250 - accuracy: 0.7995\n",
      "Epoch 123/150\n",
      "768/768 [==============================] - 0s 169us/step - loss: 0.4250 - accuracy: 0.7930\n",
      "Epoch 124/150\n",
      "768/768 [==============================] - 0s 157us/step - loss: 0.4183 - accuracy: 0.8021\n",
      "Epoch 125/150\n",
      "768/768 [==============================] - 0s 183us/step - loss: 0.4179 - accuracy: 0.8034\n",
      "Epoch 126/150\n",
      "768/768 [==============================] - 0s 165us/step - loss: 0.4211 - accuracy: 0.8021\n",
      "Epoch 127/150\n",
      "768/768 [==============================] - 0s 166us/step - loss: 0.4266 - accuracy: 0.7930\n",
      "Epoch 128/150\n",
      "768/768 [==============================] - 0s 185us/step - loss: 0.4303 - accuracy: 0.7878\n",
      "Epoch 129/150\n",
      "768/768 [==============================] - 0s 179us/step - loss: 0.4284 - accuracy: 0.8008\n",
      "Epoch 130/150\n",
      "768/768 [==============================] - 0s 174us/step - loss: 0.4270 - accuracy: 0.8073\n",
      "Epoch 131/150\n",
      "768/768 [==============================] - 0s 168us/step - loss: 0.4203 - accuracy: 0.8047\n",
      "Epoch 132/150\n",
      "768/768 [==============================] - 0s 177us/step - loss: 0.4175 - accuracy: 0.8086\n",
      "Epoch 133/150\n",
      "768/768 [==============================] - 0s 168us/step - loss: 0.4127 - accuracy: 0.8099\n",
      "Epoch 134/150\n",
      "768/768 [==============================] - 0s 169us/step - loss: 0.4115 - accuracy: 0.8164\n",
      "Epoch 135/150\n",
      "768/768 [==============================] - 0s 172us/step - loss: 0.4258 - accuracy: 0.8008\n",
      "Epoch 136/150\n",
      "768/768 [==============================] - 0s 169us/step - loss: 0.4209 - accuracy: 0.8125\n",
      "Epoch 137/150\n",
      "768/768 [==============================] - 0s 171us/step - loss: 0.4254 - accuracy: 0.7956\n",
      "Epoch 138/150\n",
      "768/768 [==============================] - 0s 172us/step - loss: 0.4148 - accuracy: 0.8073\n",
      "Epoch 139/150\n",
      "768/768 [==============================] - 0s 171us/step - loss: 0.4270 - accuracy: 0.8047\n",
      "Epoch 140/150\n",
      "768/768 [==============================] - 0s 163us/step - loss: 0.4305 - accuracy: 0.8073\n",
      "Epoch 141/150\n",
      "768/768 [==============================] - 0s 167us/step - loss: 0.4174 - accuracy: 0.8151\n",
      "Epoch 142/150\n",
      "768/768 [==============================] - 0s 176us/step - loss: 0.4179 - accuracy: 0.8125\n",
      "Epoch 143/150\n",
      "768/768 [==============================] - 0s 155us/step - loss: 0.4288 - accuracy: 0.7956\n",
      "Epoch 144/150\n",
      "768/768 [==============================] - 0s 173us/step - loss: 0.4099 - accuracy: 0.8164\n",
      "Epoch 145/150\n",
      "768/768 [==============================] - 0s 185us/step - loss: 0.4121 - accuracy: 0.7995\n",
      "Epoch 146/150\n",
      "768/768 [==============================] - 0s 185us/step - loss: 0.4072 - accuracy: 0.8060\n",
      "Epoch 147/150\n",
      "768/768 [==============================] - 0s 180us/step - loss: 0.4116 - accuracy: 0.8021\n",
      "Epoch 148/150\n",
      "768/768 [==============================] - 0s 180us/step - loss: 0.4128 - accuracy: 0.8047\n",
      "Epoch 149/150\n",
      "768/768 [==============================] - 0s 181us/step - loss: 0.4125 - accuracy: 0.8138\n",
      "Epoch 150/150\n",
      "768/768 [==============================] - 0s 172us/step - loss: 0.4164 - accuracy: 0.8021\n"
     ]
    },
    {
     "data": {
      "text/plain": [
       "<keras.callbacks.callbacks.History at 0x7f0ce8717310>"
      ]
     },
     "execution_count": 21,
     "metadata": {},
     "output_type": "execute_result"
    }
   ],
   "source": [
    "model.fit(X, Y, nb_epoch=150, batch_size=10)"
   ]
  },
  {
   "cell_type": "code",
   "execution_count": null,
   "metadata": {},
   "outputs": [],
   "source": []
  },
  {
   "cell_type": "markdown",
   "metadata": {},
   "source": [
    "##### Evaluate the Model"
   ]
  },
  {
   "cell_type": "code",
   "execution_count": 22,
   "metadata": {},
   "outputs": [
    {
     "name": "stdout",
     "output_type": "stream",
     "text": [
      "768/768 [==============================] - 0s 48us/step\n",
      "accuracy: 81.64%\n"
     ]
    }
   ],
   "source": [
    "scores = model.evaluate(X, Y)\n",
    "print(\"%s: %.2f%%\" % (model.metrics_names[1], scores[1]*100))"
   ]
  },
  {
   "cell_type": "code",
   "execution_count": null,
   "metadata": {},
   "outputs": [],
   "source": []
  },
  {
   "cell_type": "code",
   "execution_count": null,
   "metadata": {},
   "outputs": [],
   "source": []
  },
  {
   "cell_type": "markdown",
   "metadata": {},
   "source": [
    "# Same Project Using Use a Manual Verification Dataset"
   ]
  },
  {
   "cell_type": "markdown",
   "metadata": {},
   "source": [
    "##### Reading Dataset"
   ]
  },
  {
   "cell_type": "code",
   "execution_count": 87,
   "metadata": {},
   "outputs": [],
   "source": [
    "dataset = pd.read_csv(\"/home/hasan/DATA SET/pima-indians-diabetes-database/diabetes.csv\", delimiter=\",\")\n"
   ]
  },
  {
   "cell_type": "code",
   "execution_count": 88,
   "metadata": {},
   "outputs": [
    {
     "data": {
      "text/html": [
       "<div>\n",
       "<style scoped>\n",
       "    .dataframe tbody tr th:only-of-type {\n",
       "        vertical-align: middle;\n",
       "    }\n",
       "\n",
       "    .dataframe tbody tr th {\n",
       "        vertical-align: top;\n",
       "    }\n",
       "\n",
       "    .dataframe thead th {\n",
       "        text-align: right;\n",
       "    }\n",
       "</style>\n",
       "<table border=\"1\" class=\"dataframe\">\n",
       "  <thead>\n",
       "    <tr style=\"text-align: right;\">\n",
       "      <th></th>\n",
       "      <th>Pregnancies</th>\n",
       "      <th>Glucose</th>\n",
       "      <th>BloodPressure</th>\n",
       "      <th>SkinThickness</th>\n",
       "      <th>Insulin</th>\n",
       "      <th>BMI</th>\n",
       "      <th>DiabetesPedigreeFunction</th>\n",
       "      <th>Age</th>\n",
       "      <th>Outcome</th>\n",
       "    </tr>\n",
       "  </thead>\n",
       "  <tbody>\n",
       "    <tr>\n",
       "      <th>0</th>\n",
       "      <td>6</td>\n",
       "      <td>148</td>\n",
       "      <td>72</td>\n",
       "      <td>35</td>\n",
       "      <td>0</td>\n",
       "      <td>33.6</td>\n",
       "      <td>0.627</td>\n",
       "      <td>50</td>\n",
       "      <td>1</td>\n",
       "    </tr>\n",
       "    <tr>\n",
       "      <th>1</th>\n",
       "      <td>1</td>\n",
       "      <td>85</td>\n",
       "      <td>66</td>\n",
       "      <td>29</td>\n",
       "      <td>0</td>\n",
       "      <td>26.6</td>\n",
       "      <td>0.351</td>\n",
       "      <td>31</td>\n",
       "      <td>0</td>\n",
       "    </tr>\n",
       "    <tr>\n",
       "      <th>2</th>\n",
       "      <td>8</td>\n",
       "      <td>183</td>\n",
       "      <td>64</td>\n",
       "      <td>0</td>\n",
       "      <td>0</td>\n",
       "      <td>23.3</td>\n",
       "      <td>0.672</td>\n",
       "      <td>32</td>\n",
       "      <td>1</td>\n",
       "    </tr>\n",
       "    <tr>\n",
       "      <th>3</th>\n",
       "      <td>1</td>\n",
       "      <td>89</td>\n",
       "      <td>66</td>\n",
       "      <td>23</td>\n",
       "      <td>94</td>\n",
       "      <td>28.1</td>\n",
       "      <td>0.167</td>\n",
       "      <td>21</td>\n",
       "      <td>0</td>\n",
       "    </tr>\n",
       "    <tr>\n",
       "      <th>4</th>\n",
       "      <td>0</td>\n",
       "      <td>137</td>\n",
       "      <td>40</td>\n",
       "      <td>35</td>\n",
       "      <td>168</td>\n",
       "      <td>43.1</td>\n",
       "      <td>2.288</td>\n",
       "      <td>33</td>\n",
       "      <td>1</td>\n",
       "    </tr>\n",
       "  </tbody>\n",
       "</table>\n",
       "</div>"
      ],
      "text/plain": [
       "   Pregnancies  Glucose  BloodPressure  SkinThickness  Insulin   BMI  \\\n",
       "0            6      148             72             35        0  33.6   \n",
       "1            1       85             66             29        0  26.6   \n",
       "2            8      183             64              0        0  23.3   \n",
       "3            1       89             66             23       94  28.1   \n",
       "4            0      137             40             35      168  43.1   \n",
       "\n",
       "   DiabetesPedigreeFunction  Age  Outcome  \n",
       "0                     0.627   50        1  \n",
       "1                     0.351   31        0  \n",
       "2                     0.672   32        1  \n",
       "3                     0.167   21        0  \n",
       "4                     2.288   33        1  "
      ]
     },
     "execution_count": 88,
     "metadata": {},
     "output_type": "execute_result"
    }
   ],
   "source": [
    "dataset.head()"
   ]
  },
  {
   "cell_type": "code",
   "execution_count": null,
   "metadata": {},
   "outputs": [],
   "source": []
  },
  {
   "cell_type": "markdown",
   "metadata": {},
   "source": [
    "##### Feature and label data"
   ]
  },
  {
   "cell_type": "code",
   "execution_count": 89,
   "metadata": {},
   "outputs": [],
   "source": [
    "X = dataset.iloc[:,0:8]\n",
    "Y = dataset.iloc[:,8]"
   ]
  },
  {
   "cell_type": "code",
   "execution_count": null,
   "metadata": {},
   "outputs": [],
   "source": []
  },
  {
   "cell_type": "markdown",
   "metadata": {},
   "source": [
    "##### Split into train and test"
   ]
  },
  {
   "cell_type": "code",
   "execution_count": 90,
   "metadata": {},
   "outputs": [],
   "source": [
    "Xtrain, xtest, Ytrain, ytest = train_test_split(X, Y, test_size=0.33, random_state=seed)"
   ]
  },
  {
   "cell_type": "code",
   "execution_count": null,
   "metadata": {},
   "outputs": [],
   "source": []
  },
  {
   "cell_type": "markdown",
   "metadata": {},
   "source": [
    "##### Model"
   ]
  },
  {
   "cell_type": "code",
   "execution_count": 91,
   "metadata": {},
   "outputs": [],
   "source": [
    "model = Sequential()\n",
    "model.add(Dense(50, input_dim=8, kernel_initializer='uniform', activation='relu'))\n",
    "model.add(Dropout(.5))\n",
    "model.add(Dense(25, kernel_initializer='uniform', activation='relu'))\n",
    "model.add(Dropout(.2))\n",
    "model.add(Dense(1, kernel_initializer='uniform', activation='sigmoid'))\n"
   ]
  },
  {
   "cell_type": "code",
   "execution_count": 92,
   "metadata": {},
   "outputs": [
    {
     "name": "stdout",
     "output_type": "stream",
     "text": [
      "Model: \"sequential_17\"\n",
      "_________________________________________________________________\n",
      "Layer (type)                 Output Shape              Param #   \n",
      "=================================================================\n",
      "dense_44 (Dense)             (None, 50)                450       \n",
      "_________________________________________________________________\n",
      "dropout_1 (Dropout)          (None, 50)                0         \n",
      "_________________________________________________________________\n",
      "dense_45 (Dense)             (None, 25)                1275      \n",
      "_________________________________________________________________\n",
      "dropout_2 (Dropout)          (None, 25)                0         \n",
      "_________________________________________________________________\n",
      "dense_46 (Dense)             (None, 1)                 26        \n",
      "=================================================================\n",
      "Total params: 1,751\n",
      "Trainable params: 1,751\n",
      "Non-trainable params: 0\n",
      "_________________________________________________________________\n"
     ]
    }
   ],
   "source": [
    "#summary of the model\n",
    "model.summary()"
   ]
  },
  {
   "cell_type": "code",
   "execution_count": 93,
   "metadata": {},
   "outputs": [],
   "source": [
    "#compile the Model\n",
    "model.compile(loss='binary_crossentropy',\n",
    "              optimizer='adam',\n",
    "              metrics=['accuracy'])"
   ]
  },
  {
   "cell_type": "code",
   "execution_count": null,
   "metadata": {},
   "outputs": [],
   "source": []
  },
  {
   "cell_type": "markdown",
   "metadata": {},
   "source": [
    "##### Fit Model"
   ]
  },
  {
   "cell_type": "code",
   "execution_count": 94,
   "metadata": {},
   "outputs": [
    {
     "name": "stderr",
     "output_type": "stream",
     "text": [
      "/home/hasan/anaconda3/lib/python3.7/site-packages/ipykernel_launcher.py:1: UserWarning: The `nb_epoch` argument in `fit` has been renamed `epochs`.\n",
      "  \"\"\"Entry point for launching an IPython kernel.\n"
     ]
    },
    {
     "name": "stdout",
     "output_type": "stream",
     "text": [
      "Train on 514 samples, validate on 254 samples\n",
      "Epoch 1/150\n",
      "514/514 [==============================] - 0s 723us/step - loss: 0.6782 - accuracy: 0.6148 - val_loss: 0.6775 - val_accuracy: 0.6378\n",
      "Epoch 2/150\n",
      "514/514 [==============================] - 0s 245us/step - loss: 0.6600 - accuracy: 0.6595 - val_loss: 0.6603 - val_accuracy: 0.6378\n",
      "Epoch 3/150\n",
      "514/514 [==============================] - 0s 254us/step - loss: 0.6549 - accuracy: 0.6420 - val_loss: 0.6455 - val_accuracy: 0.6417\n",
      "Epoch 4/150\n",
      "514/514 [==============================] - 0s 236us/step - loss: 0.6475 - accuracy: 0.6751 - val_loss: 0.6338 - val_accuracy: 0.6417\n",
      "Epoch 5/150\n",
      "514/514 [==============================] - 0s 232us/step - loss: 0.6380 - accuracy: 0.6654 - val_loss: 0.6293 - val_accuracy: 0.6654\n",
      "Epoch 6/150\n",
      "514/514 [==============================] - 0s 236us/step - loss: 0.6381 - accuracy: 0.6537 - val_loss: 0.6225 - val_accuracy: 0.6457\n",
      "Epoch 7/150\n",
      "514/514 [==============================] - 0s 244us/step - loss: 0.6274 - accuracy: 0.6518 - val_loss: 0.6303 - val_accuracy: 0.6457\n",
      "Epoch 8/150\n",
      "514/514 [==============================] - 0s 244us/step - loss: 0.6227 - accuracy: 0.6712 - val_loss: 0.6105 - val_accuracy: 0.6575\n",
      "Epoch 9/150\n",
      "514/514 [==============================] - 0s 226us/step - loss: 0.6172 - accuracy: 0.6946 - val_loss: 0.6079 - val_accuracy: 0.6614\n",
      "Epoch 10/150\n",
      "514/514 [==============================] - 0s 233us/step - loss: 0.6339 - accuracy: 0.6595 - val_loss: 0.6106 - val_accuracy: 0.6654\n",
      "Epoch 11/150\n",
      "514/514 [==============================] - 0s 239us/step - loss: 0.6169 - accuracy: 0.7062 - val_loss: 0.6083 - val_accuracy: 0.6811\n",
      "Epoch 12/150\n",
      "514/514 [==============================] - 0s 238us/step - loss: 0.6234 - accuracy: 0.6615 - val_loss: 0.6138 - val_accuracy: 0.6378\n",
      "Epoch 13/150\n",
      "514/514 [==============================] - 0s 242us/step - loss: 0.6167 - accuracy: 0.6887 - val_loss: 0.6048 - val_accuracy: 0.6614\n",
      "Epoch 14/150\n",
      "514/514 [==============================] - 0s 247us/step - loss: 0.6086 - accuracy: 0.6887 - val_loss: 0.6054 - val_accuracy: 0.6575\n",
      "Epoch 15/150\n",
      "514/514 [==============================] - 0s 234us/step - loss: 0.6057 - accuracy: 0.6751 - val_loss: 0.6002 - val_accuracy: 0.6732\n",
      "Epoch 16/150\n",
      "514/514 [==============================] - 0s 269us/step - loss: 0.6086 - accuracy: 0.6693 - val_loss: 0.6071 - val_accuracy: 0.6575\n",
      "Epoch 17/150\n",
      "514/514 [==============================] - 0s 257us/step - loss: 0.5977 - accuracy: 0.6732 - val_loss: 0.6012 - val_accuracy: 0.6614\n",
      "Epoch 18/150\n",
      "514/514 [==============================] - 0s 236us/step - loss: 0.5996 - accuracy: 0.6907 - val_loss: 0.6062 - val_accuracy: 0.6575\n",
      "Epoch 19/150\n",
      "514/514 [==============================] - 0s 245us/step - loss: 0.6144 - accuracy: 0.6887 - val_loss: 0.6074 - val_accuracy: 0.6457\n",
      "Epoch 20/150\n",
      "514/514 [==============================] - 0s 230us/step - loss: 0.5904 - accuracy: 0.7121 - val_loss: 0.5909 - val_accuracy: 0.7008\n",
      "Epoch 21/150\n",
      "514/514 [==============================] - 0s 235us/step - loss: 0.6059 - accuracy: 0.6712 - val_loss: 0.5940 - val_accuracy: 0.7087\n",
      "Epoch 22/150\n",
      "514/514 [==============================] - 0s 238us/step - loss: 0.5938 - accuracy: 0.6829 - val_loss: 0.5905 - val_accuracy: 0.6929\n",
      "Epoch 23/150\n",
      "514/514 [==============================] - 0s 230us/step - loss: 0.6049 - accuracy: 0.6946 - val_loss: 0.5957 - val_accuracy: 0.7008\n",
      "Epoch 24/150\n",
      "514/514 [==============================] - 0s 252us/step - loss: 0.6052 - accuracy: 0.6848 - val_loss: 0.5915 - val_accuracy: 0.7087\n",
      "Epoch 25/150\n",
      "514/514 [==============================] - 0s 247us/step - loss: 0.5970 - accuracy: 0.7043 - val_loss: 0.5954 - val_accuracy: 0.6969\n",
      "Epoch 26/150\n",
      "514/514 [==============================] - 0s 231us/step - loss: 0.5927 - accuracy: 0.7023 - val_loss: 0.5886 - val_accuracy: 0.6929\n",
      "Epoch 27/150\n",
      "514/514 [==============================] - 0s 245us/step - loss: 0.5824 - accuracy: 0.7140 - val_loss: 0.5849 - val_accuracy: 0.7087\n",
      "Epoch 28/150\n",
      "514/514 [==============================] - 0s 230us/step - loss: 0.5908 - accuracy: 0.6926 - val_loss: 0.5953 - val_accuracy: 0.6772\n",
      "Epoch 29/150\n",
      "514/514 [==============================] - 0s 236us/step - loss: 0.5916 - accuracy: 0.6887 - val_loss: 0.5938 - val_accuracy: 0.6732\n",
      "Epoch 30/150\n",
      "514/514 [==============================] - 0s 240us/step - loss: 0.5899 - accuracy: 0.6868 - val_loss: 0.5847 - val_accuracy: 0.6850\n",
      "Epoch 31/150\n",
      "514/514 [==============================] - 0s 258us/step - loss: 0.5843 - accuracy: 0.6965 - val_loss: 0.5925 - val_accuracy: 0.6929\n",
      "Epoch 32/150\n",
      "514/514 [==============================] - 0s 230us/step - loss: 0.5924 - accuracy: 0.7023 - val_loss: 0.5776 - val_accuracy: 0.7165\n",
      "Epoch 33/150\n",
      "514/514 [==============================] - 0s 236us/step - loss: 0.5779 - accuracy: 0.7082 - val_loss: 0.5884 - val_accuracy: 0.6969\n",
      "Epoch 34/150\n",
      "514/514 [==============================] - 0s 248us/step - loss: 0.5770 - accuracy: 0.7062 - val_loss: 0.5775 - val_accuracy: 0.7126\n",
      "Epoch 35/150\n",
      "514/514 [==============================] - 0s 248us/step - loss: 0.5936 - accuracy: 0.6984 - val_loss: 0.5848 - val_accuracy: 0.7087\n",
      "Epoch 36/150\n",
      "514/514 [==============================] - 0s 238us/step - loss: 0.5761 - accuracy: 0.7023 - val_loss: 0.5858 - val_accuracy: 0.7087\n",
      "Epoch 37/150\n",
      "514/514 [==============================] - 0s 239us/step - loss: 0.5700 - accuracy: 0.7140 - val_loss: 0.5869 - val_accuracy: 0.7126\n",
      "Epoch 38/150\n",
      "514/514 [==============================] - 0s 243us/step - loss: 0.5933 - accuracy: 0.6984 - val_loss: 0.5984 - val_accuracy: 0.6614\n",
      "Epoch 39/150\n",
      "514/514 [==============================] - 0s 241us/step - loss: 0.5867 - accuracy: 0.7023 - val_loss: 0.5911 - val_accuracy: 0.6654\n",
      "Epoch 40/150\n",
      "514/514 [==============================] - 0s 230us/step - loss: 0.5607 - accuracy: 0.7257 - val_loss: 0.5713 - val_accuracy: 0.6969\n",
      "Epoch 41/150\n",
      "514/514 [==============================] - 0s 231us/step - loss: 0.5721 - accuracy: 0.7179 - val_loss: 0.5718 - val_accuracy: 0.6850\n",
      "Epoch 42/150\n",
      "514/514 [==============================] - 0s 225us/step - loss: 0.5801 - accuracy: 0.7218 - val_loss: 0.5736 - val_accuracy: 0.7165\n",
      "Epoch 43/150\n",
      "514/514 [==============================] - 0s 229us/step - loss: 0.5764 - accuracy: 0.7276 - val_loss: 0.5663 - val_accuracy: 0.7165\n",
      "Epoch 44/150\n",
      "514/514 [==============================] - 0s 237us/step - loss: 0.5871 - accuracy: 0.7101 - val_loss: 0.5731 - val_accuracy: 0.7047\n",
      "Epoch 45/150\n",
      "514/514 [==============================] - 0s 233us/step - loss: 0.5755 - accuracy: 0.6926 - val_loss: 0.5779 - val_accuracy: 0.7008\n",
      "Epoch 46/150\n",
      "514/514 [==============================] - 0s 225us/step - loss: 0.5785 - accuracy: 0.7140 - val_loss: 0.5673 - val_accuracy: 0.7087\n",
      "Epoch 47/150\n",
      "514/514 [==============================] - 0s 236us/step - loss: 0.5698 - accuracy: 0.6965 - val_loss: 0.5697 - val_accuracy: 0.6811\n",
      "Epoch 48/150\n",
      "514/514 [==============================] - 0s 234us/step - loss: 0.5687 - accuracy: 0.7023 - val_loss: 0.5796 - val_accuracy: 0.6969\n",
      "Epoch 49/150\n",
      "514/514 [==============================] - 0s 230us/step - loss: 0.5793 - accuracy: 0.6907 - val_loss: 0.5662 - val_accuracy: 0.7126\n",
      "Epoch 50/150\n",
      "514/514 [==============================] - 0s 230us/step - loss: 0.5827 - accuracy: 0.6829 - val_loss: 0.5728 - val_accuracy: 0.6654\n",
      "Epoch 51/150\n",
      "514/514 [==============================] - 0s 241us/step - loss: 0.5721 - accuracy: 0.7237 - val_loss: 0.5730 - val_accuracy: 0.6850\n",
      "Epoch 52/150\n",
      "514/514 [==============================] - 0s 233us/step - loss: 0.5793 - accuracy: 0.7101 - val_loss: 0.5751 - val_accuracy: 0.6850\n",
      "Epoch 53/150\n",
      "514/514 [==============================] - 0s 237us/step - loss: 0.5572 - accuracy: 0.7101 - val_loss: 0.5645 - val_accuracy: 0.7126\n",
      "Epoch 54/150\n",
      "514/514 [==============================] - 0s 238us/step - loss: 0.5658 - accuracy: 0.7023 - val_loss: 0.5719 - val_accuracy: 0.6850\n",
      "Epoch 55/150\n",
      "514/514 [==============================] - 0s 251us/step - loss: 0.5707 - accuracy: 0.7101 - val_loss: 0.5895 - val_accuracy: 0.6732\n",
      "Epoch 56/150\n",
      "514/514 [==============================] - 0s 242us/step - loss: 0.5595 - accuracy: 0.7082 - val_loss: 0.5681 - val_accuracy: 0.7087\n",
      "Epoch 57/150\n",
      "514/514 [==============================] - 0s 229us/step - loss: 0.5810 - accuracy: 0.7179 - val_loss: 0.5726 - val_accuracy: 0.7283\n",
      "Epoch 58/150\n",
      "514/514 [==============================] - 0s 221us/step - loss: 0.5592 - accuracy: 0.7062 - val_loss: 0.5702 - val_accuracy: 0.7165\n",
      "Epoch 59/150\n",
      "514/514 [==============================] - 0s 219us/step - loss: 0.5470 - accuracy: 0.7471 - val_loss: 0.5850 - val_accuracy: 0.6850\n",
      "Epoch 60/150\n",
      "514/514 [==============================] - 0s 221us/step - loss: 0.5536 - accuracy: 0.7315 - val_loss: 0.5700 - val_accuracy: 0.6850\n",
      "Epoch 61/150\n",
      "514/514 [==============================] - 0s 222us/step - loss: 0.5695 - accuracy: 0.7179 - val_loss: 0.5675 - val_accuracy: 0.7205\n",
      "Epoch 62/150\n",
      "514/514 [==============================] - 0s 218us/step - loss: 0.5668 - accuracy: 0.7023 - val_loss: 0.5688 - val_accuracy: 0.6811\n",
      "Epoch 63/150\n",
      "514/514 [==============================] - 0s 224us/step - loss: 0.5786 - accuracy: 0.7101 - val_loss: 0.5697 - val_accuracy: 0.7008\n",
      "Epoch 64/150\n",
      "514/514 [==============================] - 0s 215us/step - loss: 0.5693 - accuracy: 0.6965 - val_loss: 0.5819 - val_accuracy: 0.6850\n",
      "Epoch 65/150\n",
      "514/514 [==============================] - 0s 229us/step - loss: 0.5650 - accuracy: 0.7354 - val_loss: 0.5688 - val_accuracy: 0.7244\n",
      "Epoch 66/150\n",
      "514/514 [==============================] - 0s 225us/step - loss: 0.5511 - accuracy: 0.7276 - val_loss: 0.5569 - val_accuracy: 0.7126\n",
      "Epoch 67/150\n",
      "514/514 [==============================] - 0s 215us/step - loss: 0.5578 - accuracy: 0.7043 - val_loss: 0.5676 - val_accuracy: 0.7165\n",
      "Epoch 68/150\n",
      "514/514 [==============================] - 0s 238us/step - loss: 0.5749 - accuracy: 0.7198 - val_loss: 0.5715 - val_accuracy: 0.6969\n",
      "Epoch 69/150\n",
      "514/514 [==============================] - 0s 224us/step - loss: 0.5592 - accuracy: 0.7062 - val_loss: 0.5806 - val_accuracy: 0.6811\n",
      "Epoch 70/150\n",
      "514/514 [==============================] - 0s 215us/step - loss: 0.5649 - accuracy: 0.7198 - val_loss: 0.5623 - val_accuracy: 0.7165\n",
      "Epoch 71/150\n",
      "514/514 [==============================] - 0s 214us/step - loss: 0.5552 - accuracy: 0.7218 - val_loss: 0.5632 - val_accuracy: 0.7205\n",
      "Epoch 72/150\n",
      "514/514 [==============================] - 0s 227us/step - loss: 0.5557 - accuracy: 0.7160 - val_loss: 0.5728 - val_accuracy: 0.6850\n",
      "Epoch 73/150\n",
      "514/514 [==============================] - 0s 215us/step - loss: 0.5622 - accuracy: 0.7218 - val_loss: 0.5681 - val_accuracy: 0.6929\n",
      "Epoch 74/150\n",
      "514/514 [==============================] - 0s 223us/step - loss: 0.5603 - accuracy: 0.7276 - val_loss: 0.5588 - val_accuracy: 0.7165\n",
      "Epoch 75/150\n",
      "514/514 [==============================] - 0s 225us/step - loss: 0.5597 - accuracy: 0.7218 - val_loss: 0.5516 - val_accuracy: 0.7047\n",
      "Epoch 76/150\n",
      "514/514 [==============================] - 0s 220us/step - loss: 0.5563 - accuracy: 0.7198 - val_loss: 0.5580 - val_accuracy: 0.7126\n",
      "Epoch 77/150\n",
      "514/514 [==============================] - 0s 224us/step - loss: 0.5717 - accuracy: 0.7160 - val_loss: 0.5669 - val_accuracy: 0.7047\n",
      "Epoch 78/150\n",
      "514/514 [==============================] - 0s 224us/step - loss: 0.5465 - accuracy: 0.7335 - val_loss: 0.5574 - val_accuracy: 0.7244\n",
      "Epoch 79/150\n",
      "514/514 [==============================] - 0s 224us/step - loss: 0.5568 - accuracy: 0.7023 - val_loss: 0.5633 - val_accuracy: 0.7283\n",
      "Epoch 80/150\n",
      "514/514 [==============================] - 0s 217us/step - loss: 0.5571 - accuracy: 0.7160 - val_loss: 0.5595 - val_accuracy: 0.7126\n",
      "Epoch 81/150\n",
      "514/514 [==============================] - 0s 237us/step - loss: 0.5551 - accuracy: 0.7218 - val_loss: 0.5589 - val_accuracy: 0.7165\n",
      "Epoch 82/150\n",
      "514/514 [==============================] - 0s 224us/step - loss: 0.5609 - accuracy: 0.7218 - val_loss: 0.5639 - val_accuracy: 0.6929\n",
      "Epoch 83/150\n",
      "514/514 [==============================] - 0s 224us/step - loss: 0.5409 - accuracy: 0.7335 - val_loss: 0.5511 - val_accuracy: 0.7165\n",
      "Epoch 84/150\n",
      "514/514 [==============================] - 0s 212us/step - loss: 0.5374 - accuracy: 0.7296 - val_loss: 0.5510 - val_accuracy: 0.7362\n",
      "Epoch 85/150\n",
      "514/514 [==============================] - 0s 220us/step - loss: 0.5671 - accuracy: 0.7121 - val_loss: 0.5839 - val_accuracy: 0.6811\n",
      "Epoch 86/150\n",
      "514/514 [==============================] - 0s 219us/step - loss: 0.5540 - accuracy: 0.7335 - val_loss: 0.5633 - val_accuracy: 0.7244\n",
      "Epoch 87/150\n",
      "514/514 [==============================] - 0s 220us/step - loss: 0.5410 - accuracy: 0.7023 - val_loss: 0.5636 - val_accuracy: 0.7126\n",
      "Epoch 88/150\n",
      "514/514 [==============================] - 0s 227us/step - loss: 0.5486 - accuracy: 0.7101 - val_loss: 0.5627 - val_accuracy: 0.7047\n",
      "Epoch 89/150\n",
      "514/514 [==============================] - 0s 214us/step - loss: 0.5581 - accuracy: 0.7023 - val_loss: 0.5664 - val_accuracy: 0.6811\n",
      "Epoch 90/150\n",
      "514/514 [==============================] - 0s 230us/step - loss: 0.5647 - accuracy: 0.6984 - val_loss: 0.5576 - val_accuracy: 0.7205\n",
      "Epoch 91/150\n",
      "514/514 [==============================] - 0s 227us/step - loss: 0.5332 - accuracy: 0.7257 - val_loss: 0.5498 - val_accuracy: 0.7008\n",
      "Epoch 92/150\n",
      "514/514 [==============================] - 0s 225us/step - loss: 0.5646 - accuracy: 0.7023 - val_loss: 0.5597 - val_accuracy: 0.7244\n",
      "Epoch 93/150\n",
      "514/514 [==============================] - 0s 231us/step - loss: 0.5523 - accuracy: 0.7198 - val_loss: 0.5656 - val_accuracy: 0.6890\n",
      "Epoch 94/150\n",
      "514/514 [==============================] - 0s 220us/step - loss: 0.5584 - accuracy: 0.7315 - val_loss: 0.5691 - val_accuracy: 0.6929\n",
      "Epoch 95/150\n",
      "514/514 [==============================] - 0s 234us/step - loss: 0.5455 - accuracy: 0.7160 - val_loss: 0.5584 - val_accuracy: 0.7205\n",
      "Epoch 96/150\n",
      "514/514 [==============================] - 0s 223us/step - loss: 0.5593 - accuracy: 0.7276 - val_loss: 0.5624 - val_accuracy: 0.7283\n",
      "Epoch 97/150\n",
      "514/514 [==============================] - 0s 220us/step - loss: 0.5456 - accuracy: 0.7354 - val_loss: 0.5588 - val_accuracy: 0.7362\n",
      "Epoch 98/150\n",
      "514/514 [==============================] - 0s 223us/step - loss: 0.5474 - accuracy: 0.7315 - val_loss: 0.5718 - val_accuracy: 0.6850\n",
      "Epoch 99/150\n",
      "514/514 [==============================] - 0s 219us/step - loss: 0.5607 - accuracy: 0.6984 - val_loss: 0.5698 - val_accuracy: 0.6850\n",
      "Epoch 100/150\n",
      "514/514 [==============================] - 0s 227us/step - loss: 0.5363 - accuracy: 0.7160 - val_loss: 0.5520 - val_accuracy: 0.7244\n",
      "Epoch 101/150\n",
      "514/514 [==============================] - 0s 235us/step - loss: 0.5613 - accuracy: 0.7043 - val_loss: 0.5798 - val_accuracy: 0.6811\n",
      "Epoch 102/150\n",
      "514/514 [==============================] - 0s 242us/step - loss: 0.5517 - accuracy: 0.7082 - val_loss: 0.5639 - val_accuracy: 0.6929\n",
      "Epoch 103/150\n",
      "514/514 [==============================] - 0s 231us/step - loss: 0.5415 - accuracy: 0.7393 - val_loss: 0.5554 - val_accuracy: 0.7126\n",
      "Epoch 104/150\n",
      "514/514 [==============================] - 0s 231us/step - loss: 0.5144 - accuracy: 0.7471 - val_loss: 0.5464 - val_accuracy: 0.7244\n",
      "Epoch 105/150\n",
      "514/514 [==============================] - 0s 236us/step - loss: 0.5353 - accuracy: 0.7374 - val_loss: 0.5704 - val_accuracy: 0.7008\n",
      "Epoch 106/150\n",
      "514/514 [==============================] - 0s 227us/step - loss: 0.5521 - accuracy: 0.7237 - val_loss: 0.5607 - val_accuracy: 0.7205\n",
      "Epoch 107/150\n",
      "514/514 [==============================] - 0s 227us/step - loss: 0.5485 - accuracy: 0.7276 - val_loss: 0.5801 - val_accuracy: 0.6890\n",
      "Epoch 108/150\n",
      "514/514 [==============================] - 0s 244us/step - loss: 0.5550 - accuracy: 0.6984 - val_loss: 0.5852 - val_accuracy: 0.6772\n",
      "Epoch 109/150\n",
      "514/514 [==============================] - 0s 230us/step - loss: 0.5292 - accuracy: 0.7257 - val_loss: 0.5586 - val_accuracy: 0.7087\n",
      "Epoch 110/150\n",
      "514/514 [==============================] - 0s 241us/step - loss: 0.5449 - accuracy: 0.7432 - val_loss: 0.5776 - val_accuracy: 0.6693\n",
      "Epoch 111/150\n",
      "514/514 [==============================] - 0s 220us/step - loss: 0.5566 - accuracy: 0.7315 - val_loss: 0.5697 - val_accuracy: 0.6890\n",
      "Epoch 112/150\n",
      "514/514 [==============================] - 0s 228us/step - loss: 0.5599 - accuracy: 0.7179 - val_loss: 0.5720 - val_accuracy: 0.6850\n",
      "Epoch 113/150\n",
      "514/514 [==============================] - 0s 229us/step - loss: 0.5476 - accuracy: 0.7121 - val_loss: 0.5582 - val_accuracy: 0.7205\n",
      "Epoch 114/150\n",
      "514/514 [==============================] - 0s 304us/step - loss: 0.5665 - accuracy: 0.7276 - val_loss: 0.5787 - val_accuracy: 0.6811\n",
      "Epoch 115/150\n",
      "514/514 [==============================] - 0s 308us/step - loss: 0.5253 - accuracy: 0.7257 - val_loss: 0.5520 - val_accuracy: 0.7165\n",
      "Epoch 116/150\n",
      "514/514 [==============================] - 0s 322us/step - loss: 0.5554 - accuracy: 0.7023 - val_loss: 0.5688 - val_accuracy: 0.6890\n",
      "Epoch 117/150\n",
      "514/514 [==============================] - 0s 283us/step - loss: 0.5354 - accuracy: 0.7315 - val_loss: 0.5836 - val_accuracy: 0.6772\n",
      "Epoch 118/150\n",
      "514/514 [==============================] - 0s 252us/step - loss: 0.5692 - accuracy: 0.7043 - val_loss: 0.5627 - val_accuracy: 0.6890\n",
      "Epoch 119/150\n",
      "514/514 [==============================] - 0s 251us/step - loss: 0.5453 - accuracy: 0.7237 - val_loss: 0.5649 - val_accuracy: 0.7047\n",
      "Epoch 120/150\n",
      "514/514 [==============================] - 0s 248us/step - loss: 0.5410 - accuracy: 0.7160 - val_loss: 0.5670 - val_accuracy: 0.7008\n",
      "Epoch 121/150\n",
      "514/514 [==============================] - 0s 229us/step - loss: 0.5491 - accuracy: 0.7198 - val_loss: 0.5682 - val_accuracy: 0.6890\n",
      "Epoch 122/150\n",
      "514/514 [==============================] - 0s 274us/step - loss: 0.5392 - accuracy: 0.7374 - val_loss: 0.5718 - val_accuracy: 0.6811\n",
      "Epoch 123/150\n",
      "514/514 [==============================] - 0s 248us/step - loss: 0.5431 - accuracy: 0.7237 - val_loss: 0.5673 - val_accuracy: 0.6890\n",
      "Epoch 124/150\n",
      "514/514 [==============================] - 0s 252us/step - loss: 0.5446 - accuracy: 0.7198 - val_loss: 0.5616 - val_accuracy: 0.7205\n",
      "Epoch 125/150\n",
      "514/514 [==============================] - 0s 264us/step - loss: 0.5387 - accuracy: 0.7237 - val_loss: 0.5686 - val_accuracy: 0.6969\n",
      "Epoch 126/150\n",
      "514/514 [==============================] - 0s 276us/step - loss: 0.5539 - accuracy: 0.6984 - val_loss: 0.5696 - val_accuracy: 0.6811\n",
      "Epoch 127/150\n",
      "514/514 [==============================] - 0s 277us/step - loss: 0.5592 - accuracy: 0.7218 - val_loss: 0.5561 - val_accuracy: 0.7126\n",
      "Epoch 128/150\n",
      "514/514 [==============================] - 0s 265us/step - loss: 0.5356 - accuracy: 0.7374 - val_loss: 0.5669 - val_accuracy: 0.6929\n",
      "Epoch 129/150\n",
      "514/514 [==============================] - 0s 240us/step - loss: 0.5516 - accuracy: 0.7354 - val_loss: 0.5878 - val_accuracy: 0.6811\n",
      "Epoch 130/150\n",
      "514/514 [==============================] - 0s 243us/step - loss: 0.5594 - accuracy: 0.7140 - val_loss: 0.5830 - val_accuracy: 0.6732\n",
      "Epoch 131/150\n",
      "514/514 [==============================] - 0s 249us/step - loss: 0.5494 - accuracy: 0.7198 - val_loss: 0.5677 - val_accuracy: 0.6850\n",
      "Epoch 132/150\n",
      "514/514 [==============================] - 0s 239us/step - loss: 0.5104 - accuracy: 0.7646 - val_loss: 0.5520 - val_accuracy: 0.7244\n",
      "Epoch 133/150\n",
      "514/514 [==============================] - 0s 228us/step - loss: 0.5413 - accuracy: 0.7218 - val_loss: 0.5603 - val_accuracy: 0.7165\n",
      "Epoch 134/150\n",
      "514/514 [==============================] - 0s 227us/step - loss: 0.5430 - accuracy: 0.7276 - val_loss: 0.5665 - val_accuracy: 0.6929\n",
      "Epoch 135/150\n",
      "514/514 [==============================] - 0s 255us/step - loss: 0.5656 - accuracy: 0.7140 - val_loss: 0.5899 - val_accuracy: 0.6575\n",
      "Epoch 136/150\n",
      "514/514 [==============================] - 0s 287us/step - loss: 0.5215 - accuracy: 0.7510 - val_loss: 0.5684 - val_accuracy: 0.6929\n",
      "Epoch 137/150\n",
      "514/514 [==============================] - 0s 251us/step - loss: 0.5332 - accuracy: 0.7354 - val_loss: 0.5923 - val_accuracy: 0.6732\n",
      "Epoch 138/150\n",
      "514/514 [==============================] - 0s 240us/step - loss: 0.5529 - accuracy: 0.7315 - val_loss: 0.5710 - val_accuracy: 0.6929\n",
      "Epoch 139/150\n",
      "514/514 [==============================] - 0s 250us/step - loss: 0.5239 - accuracy: 0.7276 - val_loss: 0.5634 - val_accuracy: 0.6929\n",
      "Epoch 140/150\n",
      "514/514 [==============================] - 0s 251us/step - loss: 0.5315 - accuracy: 0.7101 - val_loss: 0.5843 - val_accuracy: 0.6732\n",
      "Epoch 141/150\n",
      "514/514 [==============================] - 0s 256us/step - loss: 0.5462 - accuracy: 0.7218 - val_loss: 0.5632 - val_accuracy: 0.6850\n",
      "Epoch 142/150\n",
      "514/514 [==============================] - 0s 255us/step - loss: 0.5479 - accuracy: 0.7198 - val_loss: 0.5779 - val_accuracy: 0.6811\n",
      "Epoch 143/150\n",
      "514/514 [==============================] - 0s 285us/step - loss: 0.5407 - accuracy: 0.7257 - val_loss: 0.5764 - val_accuracy: 0.6850\n",
      "Epoch 144/150\n",
      "514/514 [==============================] - 0s 251us/step - loss: 0.5372 - accuracy: 0.7471 - val_loss: 0.5595 - val_accuracy: 0.7126\n",
      "Epoch 145/150\n",
      "514/514 [==============================] - 0s 252us/step - loss: 0.5376 - accuracy: 0.7354 - val_loss: 0.5615 - val_accuracy: 0.6929\n",
      "Epoch 146/150\n",
      "514/514 [==============================] - 0s 260us/step - loss: 0.5617 - accuracy: 0.7296 - val_loss: 0.5723 - val_accuracy: 0.7008\n",
      "Epoch 147/150\n",
      "514/514 [==============================] - 0s 255us/step - loss: 0.5463 - accuracy: 0.7140 - val_loss: 0.5625 - val_accuracy: 0.7008\n",
      "Epoch 148/150\n",
      "514/514 [==============================] - 0s 266us/step - loss: 0.5439 - accuracy: 0.7198 - val_loss: 0.5646 - val_accuracy: 0.6850\n",
      "Epoch 149/150\n",
      "514/514 [==============================] - 0s 243us/step - loss: 0.5285 - accuracy: 0.7471 - val_loss: 0.5585 - val_accuracy: 0.6969\n",
      "Epoch 150/150\n",
      "514/514 [==============================] - 0s 241us/step - loss: 0.5538 - accuracy: 0.7082 - val_loss: 0.5809 - val_accuracy: 0.6732\n"
     ]
    }
   ],
   "source": [
    "model_fit = model.fit(Xtrain, Ytrain, nb_epoch=150, batch_size=10, validation_data=(xtest,ytest))"
   ]
  },
  {
   "cell_type": "code",
   "execution_count": null,
   "metadata": {},
   "outputs": [],
   "source": []
  },
  {
   "cell_type": "code",
   "execution_count": null,
   "metadata": {},
   "outputs": [],
   "source": []
  },
  {
   "cell_type": "markdown",
   "metadata": {},
   "source": [
    "##### Evaluate model"
   ]
  },
  {
   "cell_type": "code",
   "execution_count": 95,
   "metadata": {},
   "outputs": [
    {
     "name": "stdout",
     "output_type": "stream",
     "text": [
      "768/768 [==============================] - 0s 27us/step\n",
      "accuracy: 69.27%\n"
     ]
    }
   ],
   "source": [
    "scores = model.evaluate(X, Y)\n",
    "print(\"%s: %.2f%%\" % (model.metrics_names[1], scores[1]*100))"
   ]
  },
  {
   "cell_type": "code",
   "execution_count": null,
   "metadata": {},
   "outputs": [],
   "source": []
  },
  {
   "cell_type": "markdown",
   "metadata": {},
   "source": [
    "##### Accuracy and Loss Curve"
   ]
  },
  {
   "cell_type": "code",
   "execution_count": 96,
   "metadata": {},
   "outputs": [
    {
     "data": {
      "image/png": "[encoded data removed]",
      "text/plain": [
       "<Figure size 432x288 with 1 Axes>"
      ]
     },
     "metadata": {
      "needs_background": "light"
     },
     "output_type": "display_data"
    },
    {
     "data": {
      "image/png": "[encoded data removed]",
      "text/plain": [
       "<Figure size 432x288 with 1 Axes>"
      ]
     },
     "metadata": {
      "needs_background": "light"
     },
     "output_type": "display_data"
    }
   ],
   "source": [
    "accuracy = model_fit.history['accuracy']\n",
    "val_accuracy = model_fit.history['val_accuracy']\n",
    "\n",
    "loss = model_fit.history['loss']\n",
    "val_loss = model_fit.history['val_loss']\n",
    "\n",
    "epochs = range(len(val_accuracy))\n",
    "plt.plot(epochs, accuracy, 'go', label='Training accuracy')\n",
    "plt.plot(epochs, val_accuracy, 'b', label='Validation accuracy')\n",
    "plt.title('Training and validation accuracy')\n",
    "plt.legend()\n",
    "plt.figure()\n",
    "plt.plot(epochs, loss, 'go', label='Training loss')\n",
    "plt.plot(epochs, val_loss, 'b', label='validation loss')\n",
    "plt.title('training and validation loss')\n",
    "plt.legend()\n",
    "plt.show()"
   ]
  },
  {
   "cell_type": "code",
   "execution_count": null,
   "metadata": {},
   "outputs": [],
   "source": []
  },
  {
   "cell_type": "code",
   "execution_count": null,
   "metadata": {},
   "outputs": [],
   "source": []
  },
  {
   "cell_type": "code",
   "execution_count": null,
   "metadata": {},
   "outputs": [],
   "source": []
  },
  {
   "cell_type": "markdown",
   "metadata": {},
   "source": [
    "# Same Project Using k-Fold Cross-Validation"
   ]
  },
  {
   "cell_type": "markdown",
   "metadata": {},
   "source": [
    "##### Reading Dataset"
   ]
  },
  {
   "cell_type": "code",
   "execution_count": 112,
   "metadata": {},
   "outputs": [],
   "source": [
    "dataset = numpy.loadtxt(\"/home/hasan/DATA SET/diabetes.csv\", delimiter=\",\")\n"
   ]
  },
  {
   "cell_type": "markdown",
   "metadata": {},
   "source": [
    "##### Split Dataset"
   ]
  },
  {
   "cell_type": "code",
   "execution_count": 113,
   "metadata": {},
   "outputs": [],
   "source": [
    "X = dataset[:,0:8]\n",
    "Y = dataset[:,8]\n"
   ]
  },
  {
   "cell_type": "code",
   "execution_count": null,
   "metadata": {},
   "outputs": [],
   "source": []
  },
  {
   "cell_type": "markdown",
   "metadata": {},
   "source": [
    "##### K-Fold Cross Validation"
   ]
  },
  {
   "cell_type": "code",
   "execution_count": 114,
   "metadata": {},
   "outputs": [],
   "source": [
    "kfold = StratifiedKFold(n_splits=10, shuffle=True, random_state=seed)\n"
   ]
  },
  {
   "cell_type": "code",
   "execution_count": 115,
   "metadata": {},
   "outputs": [
    {
     "name": "stdout",
     "output_type": "stream",
     "text": [
      "accuracy: 77.92%\n",
      "accuracy: 72.73%\n",
      "accuracy: 75.32%\n",
      "accuracy: 79.22%\n",
      "accuracy: 79.22%\n",
      "accuracy: 76.62%\n",
      "accuracy: 76.62%\n",
      "accuracy: 66.23%\n",
      "accuracy: 71.05%\n",
      "accuracy: 76.32%\n",
      "75.13% (+/- 3.86%)\n"
     ]
    }
   ],
   "source": [
    "cvscores = []\n",
    "\n",
    "for train, test in kfold.split(X,Y):\n",
    "    model = Sequential()\n",
    "    model.add(Dense(50, input_dim=8, kernel_initializer='uniform', activation='relu'))\n",
    "    model.add(Dense(25, kernel_initializer='uniform', activation='relu'))\n",
    "    model.add(Dense(1, kernel_initializer='uniform', activation='sigmoid'))\n",
    "    \n",
    "    #model compile\n",
    "    model.compile(loss='binary_crossentropy', \n",
    "                  optimizer='adam', \n",
    "                  metrics=['accuracy'])\n",
    "    \n",
    "    #model fit\n",
    "    model.fit(X[train], Y[train], epochs=150, batch_size=10, verbose=0)\n",
    "    \n",
    "    # evaluate the model\n",
    "    scores = model.evaluate(X[test], Y[test], verbose=0)\n",
    "    print(\"%s: %.2f%%\" % (model.metrics_names[1], scores[1]*100))\n",
    "    cvscores.append(scores[1] * 100)\n",
    "    \n",
    "print(\"%.2f%% (+/- %.2f%%)\" % (numpy.mean(cvscores), numpy.std(cvscores)))"
   ]
  },
  {
   "cell_type": "code",
   "execution_count": null,
   "metadata": {},
   "outputs": [],
   "source": []
  },
  {
   "cell_type": "markdown",
   "metadata": {},
   "source": [
    "Note: Delete the columns name if program doesn't run"
   ]
  },
  {
   "cell_type": "code",
   "execution_count": null,
   "metadata": {},
   "outputs": [],
   "source": []
  },
  {
   "cell_type": "code",
   "execution_count": null,
   "metadata": {},
   "outputs": [],
   "source": []
  },
  {
   "cell_type": "markdown",
   "metadata": {},
   "source": [
    "# Same Model Evaluating Models with Cross-Validation"
   ]
  },
  {
   "cell_type": "code",
   "execution_count": 118,
   "metadata": {},
   "outputs": [],
   "source": [
    "from keras.wrappers.scikit_learn import KerasClassifier\n",
    "from sklearn.model_selection import cross_val_score"
   ]
  },
  {
   "cell_type": "markdown",
   "metadata": {},
   "source": [
    "##### Reading Dataset"
   ]
  },
  {
   "cell_type": "code",
   "execution_count": 120,
   "metadata": {},
   "outputs": [],
   "source": [
    "dataset = pd.read_csv(\"/home/hasan/DATA SET/pima-indians-diabetes-database/diabetes.csv\", delimiter=\",\")\n"
   ]
  },
  {
   "cell_type": "code",
   "execution_count": 121,
   "metadata": {},
   "outputs": [
    {
     "data": {
      "text/html": [
       "<div>\n",
       "<style scoped>\n",
       "    .dataframe tbody tr th:only-of-type {\n",
       "        vertical-align: middle;\n",
       "    }\n",
       "\n",
       "    .dataframe tbody tr th {\n",
       "        vertical-align: top;\n",
       "    }\n",
       "\n",
       "    .dataframe thead th {\n",
       "        text-align: right;\n",
       "    }\n",
       "</style>\n",
       "<table border=\"1\" class=\"dataframe\">\n",
       "  <thead>\n",
       "    <tr style=\"text-align: right;\">\n",
       "      <th></th>\n",
       "      <th>Pregnancies</th>\n",
       "      <th>Glucose</th>\n",
       "      <th>BloodPressure</th>\n",
       "      <th>SkinThickness</th>\n",
       "      <th>Insulin</th>\n",
       "      <th>BMI</th>\n",
       "      <th>DiabetesPedigreeFunction</th>\n",
       "      <th>Age</th>\n",
       "      <th>Outcome</th>\n",
       "    </tr>\n",
       "  </thead>\n",
       "  <tbody>\n",
       "    <tr>\n",
       "      <th>0</th>\n",
       "      <td>6</td>\n",
       "      <td>148</td>\n",
       "      <td>72</td>\n",
       "      <td>35</td>\n",
       "      <td>0</td>\n",
       "      <td>33.6</td>\n",
       "      <td>0.627</td>\n",
       "      <td>50</td>\n",
       "      <td>1</td>\n",
       "    </tr>\n",
       "    <tr>\n",
       "      <th>1</th>\n",
       "      <td>1</td>\n",
       "      <td>85</td>\n",
       "      <td>66</td>\n",
       "      <td>29</td>\n",
       "      <td>0</td>\n",
       "      <td>26.6</td>\n",
       "      <td>0.351</td>\n",
       "      <td>31</td>\n",
       "      <td>0</td>\n",
       "    </tr>\n",
       "    <tr>\n",
       "      <th>2</th>\n",
       "      <td>8</td>\n",
       "      <td>183</td>\n",
       "      <td>64</td>\n",
       "      <td>0</td>\n",
       "      <td>0</td>\n",
       "      <td>23.3</td>\n",
       "      <td>0.672</td>\n",
       "      <td>32</td>\n",
       "      <td>1</td>\n",
       "    </tr>\n",
       "    <tr>\n",
       "      <th>3</th>\n",
       "      <td>1</td>\n",
       "      <td>89</td>\n",
       "      <td>66</td>\n",
       "      <td>23</td>\n",
       "      <td>94</td>\n",
       "      <td>28.1</td>\n",
       "      <td>0.167</td>\n",
       "      <td>21</td>\n",
       "      <td>0</td>\n",
       "    </tr>\n",
       "    <tr>\n",
       "      <th>4</th>\n",
       "      <td>0</td>\n",
       "      <td>137</td>\n",
       "      <td>40</td>\n",
       "      <td>35</td>\n",
       "      <td>168</td>\n",
       "      <td>43.1</td>\n",
       "      <td>2.288</td>\n",
       "      <td>33</td>\n",
       "      <td>1</td>\n",
       "    </tr>\n",
       "  </tbody>\n",
       "</table>\n",
       "</div>"
      ],
      "text/plain": [
       "   Pregnancies  Glucose  BloodPressure  SkinThickness  Insulin   BMI  \\\n",
       "0            6      148             72             35        0  33.6   \n",
       "1            1       85             66             29        0  26.6   \n",
       "2            8      183             64              0        0  23.3   \n",
       "3            1       89             66             23       94  28.1   \n",
       "4            0      137             40             35      168  43.1   \n",
       "\n",
       "   DiabetesPedigreeFunction  Age  Outcome  \n",
       "0                     0.627   50        1  \n",
       "1                     0.351   31        0  \n",
       "2                     0.672   32        1  \n",
       "3                     0.167   21        0  \n",
       "4                     2.288   33        1  "
      ]
     },
     "execution_count": 121,
     "metadata": {},
     "output_type": "execute_result"
    }
   ],
   "source": [
    "dataset.head()"
   ]
  },
  {
   "cell_type": "markdown",
   "metadata": {},
   "source": [
    "##### Feature and Label Data"
   ]
  },
  {
   "cell_type": "code",
   "execution_count": 122,
   "metadata": {},
   "outputs": [],
   "source": [
    "X = dataset.iloc[:,0:8]\n",
    "Y = dataset.iloc[:,8]"
   ]
  },
  {
   "cell_type": "code",
   "execution_count": null,
   "metadata": {},
   "outputs": [],
   "source": []
  },
  {
   "cell_type": "markdown",
   "metadata": {},
   "source": [
    "##### Model"
   ]
  },
  {
   "cell_type": "code",
   "execution_count": 123,
   "metadata": {},
   "outputs": [],
   "source": [
    "def create_model():\n",
    "    model = Sequential()\n",
    "    model.add(Dense(50, input_dim=8, kernel_initializer='uniform', activation='relu'))\n",
    "    model.add(Dense(25, kernel_initializer='uniform', activation='relu'))\n",
    "    model.add(Dense(1, kernel_initializer='uniform', activation='sigmoid'))\n",
    "    \n",
    "    # Compile model\n",
    "    model.compile(loss='binary_crossentropy', optimizer='adam', metrics=['accuracy'])\n",
    "    return model\n",
    "\n"
   ]
  },
  {
   "cell_type": "code",
   "execution_count": 124,
   "metadata": {},
   "outputs": [
    {
     "name": "stdout",
     "output_type": "stream",
     "text": [
      "0.7278024613857269\n"
     ]
    }
   ],
   "source": [
    "# create model\n",
    "model = KerasClassifier(build_fn=create_model, epochs=150, batch_size=10, verbose=0)\n",
    "\n",
    "# evaluate using 10-fold cross validation\n",
    "kfold = StratifiedKFold(n_splits=10, shuffle=True, random_state=seed)\n",
    "\n",
    "#cross validation score\n",
    "results = cross_val_score(model, X, Y, cv=kfold)\n",
    "print(results.mean())\n"
   ]
  },
  {
   "cell_type": "code",
   "execution_count": null,
   "metadata": {},
   "outputs": [],
   "source": []
  },
  {
   "cell_type": "code",
   "execution_count": null,
   "metadata": {},
   "outputs": [],
   "source": []
  },
  {
   "cell_type": "markdown",
   "metadata": {},
   "source": [
    "# Same Model Using Grid Search Deep Learning Model Parameters"
   ]
  },
  {
   "cell_type": "code",
   "execution_count": 125,
   "metadata": {},
   "outputs": [],
   "source": [
    "from keras.models import Sequential\n",
    "from keras.layers import Dense\n",
    "from keras.wrappers.scikit_learn import KerasClassifier\n",
    "from sklearn.model_selection import GridSearchCV"
   ]
  },
  {
   "cell_type": "markdown",
   "metadata": {},
   "source": [
    "##### Reading Dataset"
   ]
  },
  {
   "cell_type": "code",
   "execution_count": 129,
   "metadata": {},
   "outputs": [],
   "source": [
    "dataset = pd.read_csv(\"/home/hasan/DATA SET/pima-indians-diabetes-database/diabetes.csv\", delimiter=\",\")\n"
   ]
  },
  {
   "cell_type": "code",
   "execution_count": 130,
   "metadata": {},
   "outputs": [
    {
     "data": {
      "text/html": [
       "<div>\n",
       "<style scoped>\n",
       "    .dataframe tbody tr th:only-of-type {\n",
       "        vertical-align: middle;\n",
       "    }\n",
       "\n",
       "    .dataframe tbody tr th {\n",
       "        vertical-align: top;\n",
       "    }\n",
       "\n",
       "    .dataframe thead th {\n",
       "        text-align: right;\n",
       "    }\n",
       "</style>\n",
       "<table border=\"1\" class=\"dataframe\">\n",
       "  <thead>\n",
       "    <tr style=\"text-align: right;\">\n",
       "      <th></th>\n",
       "      <th>Pregnancies</th>\n",
       "      <th>Glucose</th>\n",
       "      <th>BloodPressure</th>\n",
       "      <th>SkinThickness</th>\n",
       "      <th>Insulin</th>\n",
       "      <th>BMI</th>\n",
       "      <th>DiabetesPedigreeFunction</th>\n",
       "      <th>Age</th>\n",
       "      <th>Outcome</th>\n",
       "    </tr>\n",
       "  </thead>\n",
       "  <tbody>\n",
       "    <tr>\n",
       "      <th>0</th>\n",
       "      <td>6</td>\n",
       "      <td>148</td>\n",
       "      <td>72</td>\n",
       "      <td>35</td>\n",
       "      <td>0</td>\n",
       "      <td>33.6</td>\n",
       "      <td>0.627</td>\n",
       "      <td>50</td>\n",
       "      <td>1</td>\n",
       "    </tr>\n",
       "    <tr>\n",
       "      <th>1</th>\n",
       "      <td>1</td>\n",
       "      <td>85</td>\n",
       "      <td>66</td>\n",
       "      <td>29</td>\n",
       "      <td>0</td>\n",
       "      <td>26.6</td>\n",
       "      <td>0.351</td>\n",
       "      <td>31</td>\n",
       "      <td>0</td>\n",
       "    </tr>\n",
       "    <tr>\n",
       "      <th>2</th>\n",
       "      <td>8</td>\n",
       "      <td>183</td>\n",
       "      <td>64</td>\n",
       "      <td>0</td>\n",
       "      <td>0</td>\n",
       "      <td>23.3</td>\n",
       "      <td>0.672</td>\n",
       "      <td>32</td>\n",
       "      <td>1</td>\n",
       "    </tr>\n",
       "    <tr>\n",
       "      <th>3</th>\n",
       "      <td>1</td>\n",
       "      <td>89</td>\n",
       "      <td>66</td>\n",
       "      <td>23</td>\n",
       "      <td>94</td>\n",
       "      <td>28.1</td>\n",
       "      <td>0.167</td>\n",
       "      <td>21</td>\n",
       "      <td>0</td>\n",
       "    </tr>\n",
       "    <tr>\n",
       "      <th>4</th>\n",
       "      <td>0</td>\n",
       "      <td>137</td>\n",
       "      <td>40</td>\n",
       "      <td>35</td>\n",
       "      <td>168</td>\n",
       "      <td>43.1</td>\n",
       "      <td>2.288</td>\n",
       "      <td>33</td>\n",
       "      <td>1</td>\n",
       "    </tr>\n",
       "  </tbody>\n",
       "</table>\n",
       "</div>"
      ],
      "text/plain": [
       "   Pregnancies  Glucose  BloodPressure  SkinThickness  Insulin   BMI  \\\n",
       "0            6      148             72             35        0  33.6   \n",
       "1            1       85             66             29        0  26.6   \n",
       "2            8      183             64              0        0  23.3   \n",
       "3            1       89             66             23       94  28.1   \n",
       "4            0      137             40             35      168  43.1   \n",
       "\n",
       "   DiabetesPedigreeFunction  Age  Outcome  \n",
       "0                     0.627   50        1  \n",
       "1                     0.351   31        0  \n",
       "2                     0.672   32        1  \n",
       "3                     0.167   21        0  \n",
       "4                     2.288   33        1  "
      ]
     },
     "execution_count": 130,
     "metadata": {},
     "output_type": "execute_result"
    }
   ],
   "source": [
    "dataset.head()"
   ]
  },
  {
   "cell_type": "code",
   "execution_count": null,
   "metadata": {},
   "outputs": [],
   "source": []
  },
  {
   "cell_type": "markdown",
   "metadata": {},
   "source": [
    "##### Feature and Label Data"
   ]
  },
  {
   "cell_type": "code",
   "execution_count": 131,
   "metadata": {},
   "outputs": [],
   "source": [
    "X = dataset.iloc[:,0:8]\n",
    "Y = dataset.iloc[:,8]"
   ]
  },
  {
   "cell_type": "code",
   "execution_count": null,
   "metadata": {},
   "outputs": [],
   "source": []
  },
  {
   "cell_type": "markdown",
   "metadata": {},
   "source": [
    "##### Model"
   ]
  },
  {
   "cell_type": "code",
   "execution_count": 137,
   "metadata": {},
   "outputs": [],
   "source": [
    "def create_model(optimizer='rmsprop', init='glorot_uniform'):\n",
    "    model = Sequential()\n",
    "    model.add(Dense(50, input_dim=8, init='uniform', activation='relu'))\n",
    "    model.add(Dense(25, init='uniform', activation='relu'))\n",
    "    model.add(Dense(1, init='uniform', activation='sigmoid'))\n",
    "    \n",
    "    # Compile model\n",
    "    model.compile(loss='binary_crossentropy', optimizer='adam', metrics=['accuracy'])\n",
    "    return model"
   ]
  },
  {
   "cell_type": "code",
   "execution_count": 139,
   "metadata": {},
   "outputs": [
    {
     "name": "stderr",
     "output_type": "stream",
     "text": [
      "/home/hasan/anaconda3/lib/python3.7/site-packages/ipykernel_launcher.py:3: UserWarning: Update your `Dense` call to the Keras 2 API: `Dense(50, input_dim=8, activation=\"relu\", kernel_initializer=\"uniform\")`\n",
      "  This is separate from the ipykernel package so we can avoid doing imports until\n",
      "/home/hasan/anaconda3/lib/python3.7/site-packages/ipykernel_launcher.py:4: UserWarning: Update your `Dense` call to the Keras 2 API: `Dense(25, activation=\"relu\", kernel_initializer=\"uniform\")`\n",
      "  after removing the cwd from sys.path.\n",
      "/home/hasan/anaconda3/lib/python3.7/site-packages/ipykernel_launcher.py:5: UserWarning: Update your `Dense` call to the Keras 2 API: `Dense(1, activation=\"sigmoid\", kernel_initializer=\"uniform\")`\n",
      "  \"\"\"\n"
     ]
    }
   ],
   "source": [
    "# create model\n",
    "model = KerasClassifier(build_fn=create_model, verbose=0)\n",
    "\n",
    "# grid search epochs, batch size and optimizer\n",
    "optimizers = ['rmsprop', 'adam']\n",
    "init = ['glorot_uniform', 'normal', 'uniform']\n",
    "epochs = [50, 100, 150]\n",
    "batches = [5, 10, 20]\n",
    "param_grid = dict(optimizer=optimizers, epochs=epochs, batch_size=batches, init=init)\n",
    "\n",
    "#grid search CV\n",
    "grid = GridSearchCV(estimator=model, param_grid=param_grid)\n",
    "grid_result = grid.fit(X, Y)\n"
   ]
  },
  {
   "cell_type": "code",
   "execution_count": 141,
   "metadata": {},
   "outputs": [
    {
     "name": "stdout",
     "output_type": "stream",
     "text": [
      "Best: 0.753906 using {'batch_size': 10, 'epochs': 150, 'init': 'uniform', 'optimizer': 'rmsprop'}\n",
      "0.722656 (0.016877) with: {'batch_size': 5, 'epochs': 50, 'init': 'glorot_uniform', 'optimizer': 'rmsprop'}\n",
      "0.721354 (0.010253) with: {'batch_size': 5, 'epochs': 50, 'init': 'glorot_uniform', 'optimizer': 'adam'}\n",
      "0.717448 (0.022402) with: {'batch_size': 5, 'epochs': 50, 'init': 'normal', 'optimizer': 'rmsprop'}\n",
      "0.729167 (0.027126) with: {'batch_size': 5, 'epochs': 50, 'init': 'normal', 'optimizer': 'adam'}\n",
      "0.712240 (0.017566) with: {'batch_size': 5, 'epochs': 50, 'init': 'uniform', 'optimizer': 'rmsprop'}\n",
      "0.726562 (0.027805) with: {'batch_size': 5, 'epochs': 50, 'init': 'uniform', 'optimizer': 'adam'}\n",
      "0.742188 (0.016877) with: {'batch_size': 5, 'epochs': 100, 'init': 'glorot_uniform', 'optimizer': 'rmsprop'}\n",
      "0.714844 (0.014616) with: {'batch_size': 5, 'epochs': 100, 'init': 'glorot_uniform', 'optimizer': 'adam'}\n",
      "0.721354 (0.007366) with: {'batch_size': 5, 'epochs': 100, 'init': 'normal', 'optimizer': 'rmsprop'}\n",
      "0.747396 (0.024360) with: {'batch_size': 5, 'epochs': 100, 'init': 'normal', 'optimizer': 'adam'}\n",
      "0.744792 (0.030647) with: {'batch_size': 5, 'epochs': 100, 'init': 'uniform', 'optimizer': 'rmsprop'}\n",
      "0.731771 (0.018136) with: {'batch_size': 5, 'epochs': 100, 'init': 'uniform', 'optimizer': 'adam'}\n",
      "0.739583 (0.035564) with: {'batch_size': 5, 'epochs': 150, 'init': 'glorot_uniform', 'optimizer': 'rmsprop'}\n",
      "0.733073 (0.031948) with: {'batch_size': 5, 'epochs': 150, 'init': 'glorot_uniform', 'optimizer': 'adam'}\n",
      "0.733073 (0.016367) with: {'batch_size': 5, 'epochs': 150, 'init': 'normal', 'optimizer': 'rmsprop'}\n",
      "0.747396 (0.024774) with: {'batch_size': 5, 'epochs': 150, 'init': 'normal', 'optimizer': 'adam'}\n",
      "0.739583 (0.024774) with: {'batch_size': 5, 'epochs': 150, 'init': 'uniform', 'optimizer': 'rmsprop'}\n",
      "0.731771 (0.017566) with: {'batch_size': 5, 'epochs': 150, 'init': 'uniform', 'optimizer': 'adam'}\n",
      "0.694010 (0.009207) with: {'batch_size': 10, 'epochs': 50, 'init': 'glorot_uniform', 'optimizer': 'rmsprop'}\n",
      "0.699219 (0.038670) with: {'batch_size': 10, 'epochs': 50, 'init': 'glorot_uniform', 'optimizer': 'adam'}\n",
      "0.707031 (0.019918) with: {'batch_size': 10, 'epochs': 50, 'init': 'normal', 'optimizer': 'rmsprop'}\n",
      "0.697917 (0.025780) with: {'batch_size': 10, 'epochs': 50, 'init': 'normal', 'optimizer': 'adam'}\n",
      "0.684896 (0.026748) with: {'batch_size': 10, 'epochs': 50, 'init': 'uniform', 'optimizer': 'rmsprop'}\n",
      "0.723958 (0.014382) with: {'batch_size': 10, 'epochs': 50, 'init': 'uniform', 'optimizer': 'adam'}\n",
      "0.722656 (0.009568) with: {'batch_size': 10, 'epochs': 100, 'init': 'glorot_uniform', 'optimizer': 'rmsprop'}\n",
      "0.721354 (0.038582) with: {'batch_size': 10, 'epochs': 100, 'init': 'glorot_uniform', 'optimizer': 'adam'}\n",
      "0.722656 (0.009568) with: {'batch_size': 10, 'epochs': 100, 'init': 'normal', 'optimizer': 'rmsprop'}\n",
      "0.726562 (0.028705) with: {'batch_size': 10, 'epochs': 100, 'init': 'normal', 'optimizer': 'adam'}\n",
      "0.712240 (0.020752) with: {'batch_size': 10, 'epochs': 100, 'init': 'uniform', 'optimizer': 'rmsprop'}\n",
      "0.726562 (0.027251) with: {'batch_size': 10, 'epochs': 100, 'init': 'uniform', 'optimizer': 'adam'}\n",
      "0.740885 (0.025780) with: {'batch_size': 10, 'epochs': 150, 'init': 'glorot_uniform', 'optimizer': 'rmsprop'}\n",
      "0.739583 (0.018688) with: {'batch_size': 10, 'epochs': 150, 'init': 'glorot_uniform', 'optimizer': 'adam'}\n",
      "0.744792 (0.025780) with: {'batch_size': 10, 'epochs': 150, 'init': 'normal', 'optimizer': 'rmsprop'}\n",
      "0.733073 (0.023939) with: {'batch_size': 10, 'epochs': 150, 'init': 'normal', 'optimizer': 'adam'}\n",
      "0.753906 (0.008438) with: {'batch_size': 10, 'epochs': 150, 'init': 'uniform', 'optimizer': 'rmsprop'}\n",
      "0.734375 (0.033299) with: {'batch_size': 10, 'epochs': 150, 'init': 'uniform', 'optimizer': 'adam'}\n",
      "0.701823 (0.023939) with: {'batch_size': 20, 'epochs': 50, 'init': 'glorot_uniform', 'optimizer': 'rmsprop'}\n",
      "0.718750 (0.014616) with: {'batch_size': 20, 'epochs': 50, 'init': 'glorot_uniform', 'optimizer': 'adam'}\n",
      "0.710938 (0.032369) with: {'batch_size': 20, 'epochs': 50, 'init': 'normal', 'optimizer': 'rmsprop'}\n",
      "0.714844 (0.013902) with: {'batch_size': 20, 'epochs': 50, 'init': 'normal', 'optimizer': 'adam'}\n",
      "0.713542 (0.012890) with: {'batch_size': 20, 'epochs': 50, 'init': 'uniform', 'optimizer': 'rmsprop'}\n",
      "0.696615 (0.006639) with: {'batch_size': 20, 'epochs': 50, 'init': 'uniform', 'optimizer': 'adam'}\n",
      "0.717448 (0.022628) with: {'batch_size': 20, 'epochs': 100, 'init': 'glorot_uniform', 'optimizer': 'rmsprop'}\n",
      "0.716146 (0.003683) with: {'batch_size': 20, 'epochs': 100, 'init': 'glorot_uniform', 'optimizer': 'adam'}\n",
      "0.705729 (0.022402) with: {'batch_size': 20, 'epochs': 100, 'init': 'normal', 'optimizer': 'rmsprop'}\n",
      "0.726562 (0.030425) with: {'batch_size': 20, 'epochs': 100, 'init': 'normal', 'optimizer': 'adam'}\n",
      "0.727865 (0.023939) with: {'batch_size': 20, 'epochs': 100, 'init': 'uniform', 'optimizer': 'rmsprop'}\n",
      "0.717448 (0.024150) with: {'batch_size': 20, 'epochs': 100, 'init': 'uniform', 'optimizer': 'adam'}\n",
      "0.731771 (0.023939) with: {'batch_size': 20, 'epochs': 150, 'init': 'glorot_uniform', 'optimizer': 'rmsprop'}\n",
      "0.736979 (0.020505) with: {'batch_size': 20, 'epochs': 150, 'init': 'glorot_uniform', 'optimizer': 'adam'}\n",
      "0.731771 (0.017566) with: {'batch_size': 20, 'epochs': 150, 'init': 'normal', 'optimizer': 'rmsprop'}\n",
      "0.735677 (0.030314) with: {'batch_size': 20, 'epochs': 150, 'init': 'normal', 'optimizer': 'adam'}\n",
      "0.726562 (0.028705) with: {'batch_size': 20, 'epochs': 150, 'init': 'uniform', 'optimizer': 'rmsprop'}\n",
      "0.727865 (0.027126) with: {'batch_size': 20, 'epochs': 150, 'init': 'uniform', 'optimizer': 'adam'}\n"
     ]
    }
   ],
   "source": [
    "# summarize results\n",
    "print(\"Best: %f using %s\" % (grid_result.best_score_, grid_result.best_params_))\n",
    "means = grid_result.cv_results_['mean_test_score']\n",
    "stds = grid_result.cv_results_['std_test_score']\n",
    "params = grid_result.cv_results_['params']\n",
    "for mean, stdev, param in zip(means, stds, params):\n",
    "    print(\"%f (%f) with: %r\" % (mean, stdev, param))"
   ]
  },
  {
   "cell_type": "code",
   "execution_count": null,
   "metadata": {},
   "outputs": [],
   "source": []
  },
  {
   "cell_type": "code",
   "execution_count": null,
   "metadata": {},
   "outputs": [],
   "source": []
  }
 ],
 "metadata": {
  "kernelspec": {
   "display_name": "Python 3",
   "language": "python",
   "name": "python3"
  },
  "language_info": {
   "codemirror_mode": {
    "name": "ipython",
    "version": 3
   },
   "file_extension": ".py",
   "mimetype": "text/x-python",
   "name": "python",
   "nbconvert_exporter": "python",
   "pygments_lexer": "ipython3",
   "version": "3.7.4"
  }
 },
 "nbformat": 4,
 "nbformat_minor": 2
}
